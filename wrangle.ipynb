{
 "cells": [
  {
   "cell_type": "code",
   "execution_count": 3,
   "metadata": {},
   "outputs": [],
   "source": [
    "import warnings\n",
    "warnings.filterwarnings(\"ignore\")\n",
    "\n",
    "import pandas as pd\n",
    "import matplotlib.pyplot as plt\n",
    "import seaborn as sns\n",
    "import numpy as np\n",
    "from sklearn.model_selection import train_test_split\n",
    "\n",
    "#import my modules\n",
    "import acquire as a\n",
    "import wrangle as w"
   ]
  },
  {
   "cell_type": "markdown",
   "metadata": {},
   "source": [
    "## Exercises II"
   ]
  },
  {
   "cell_type": "markdown",
   "metadata": {},
   "source": [
    "As a customer analyst for Telco, you want to know who has spent the most money with the company over their lifetime. You have monthly charges and tenure, so you think you will be able to use those two attributes as features to estimate total charges. You need to do this within an average of $5.00 per customer.\n",
    "\n",
    "In these exercises, you will complete the first step toward the above goal: acquire and prepare the necessary Telco data from the telco_churn database in the Codeup database server."
   ]
  },
  {
   "cell_type": "markdown",
   "metadata": {},
   "source": [
    "**1. Acquire customer_id, monthly_charges, tenure, and total_charges from the telco_churn database for all customers with a 2-year contract.**"
   ]
  },
  {
   "cell_type": "code",
   "execution_count": 4,
   "metadata": {},
   "outputs": [],
   "source": [
    "#acquire my df using my function but this gives me all the columns \n",
    "df = a.get_telco()"
   ]
  },
  {
   "cell_type": "code",
   "execution_count": 5,
   "metadata": {
    "scrolled": true
   },
   "outputs": [
    {
     "data": {
      "text/html": [
       "<div>\n",
       "<style scoped>\n",
       "    .dataframe tbody tr th:only-of-type {\n",
       "        vertical-align: middle;\n",
       "    }\n",
       "\n",
       "    .dataframe tbody tr th {\n",
       "        vertical-align: top;\n",
       "    }\n",
       "\n",
       "    .dataframe thead th {\n",
       "        text-align: right;\n",
       "    }\n",
       "</style>\n",
       "<table border=\"1\" class=\"dataframe\">\n",
       "  <thead>\n",
       "    <tr style=\"text-align: right;\">\n",
       "      <th></th>\n",
       "      <th>payment_type_id</th>\n",
       "      <th>internet_service_type_id</th>\n",
       "      <th>contract_type_id</th>\n",
       "      <th>customer_id</th>\n",
       "      <th>gender</th>\n",
       "      <th>senior_citizen</th>\n",
       "      <th>partner</th>\n",
       "      <th>dependents</th>\n",
       "      <th>tenure</th>\n",
       "      <th>phone_service</th>\n",
       "      <th>...</th>\n",
       "      <th>tech_support</th>\n",
       "      <th>streaming_tv</th>\n",
       "      <th>streaming_movies</th>\n",
       "      <th>paperless_billing</th>\n",
       "      <th>monthly_charges</th>\n",
       "      <th>total_charges</th>\n",
       "      <th>churn</th>\n",
       "      <th>contract_type</th>\n",
       "      <th>internet_service_type</th>\n",
       "      <th>payment_type</th>\n",
       "    </tr>\n",
       "  </thead>\n",
       "  <tbody>\n",
       "    <tr>\n",
       "      <th>0</th>\n",
       "      <td>2</td>\n",
       "      <td>1</td>\n",
       "      <td>3</td>\n",
       "      <td>0016-QLJIS</td>\n",
       "      <td>Female</td>\n",
       "      <td>0</td>\n",
       "      <td>Yes</td>\n",
       "      <td>Yes</td>\n",
       "      <td>65</td>\n",
       "      <td>Yes</td>\n",
       "      <td>...</td>\n",
       "      <td>Yes</td>\n",
       "      <td>Yes</td>\n",
       "      <td>Yes</td>\n",
       "      <td>Yes</td>\n",
       "      <td>90.45</td>\n",
       "      <td>5957.9</td>\n",
       "      <td>No</td>\n",
       "      <td>Two year</td>\n",
       "      <td>DSL</td>\n",
       "      <td>Mailed check</td>\n",
       "    </tr>\n",
       "    <tr>\n",
       "      <th>1</th>\n",
       "      <td>4</td>\n",
       "      <td>1</td>\n",
       "      <td>3</td>\n",
       "      <td>0017-DINOC</td>\n",
       "      <td>Male</td>\n",
       "      <td>0</td>\n",
       "      <td>No</td>\n",
       "      <td>No</td>\n",
       "      <td>54</td>\n",
       "      <td>No</td>\n",
       "      <td>...</td>\n",
       "      <td>Yes</td>\n",
       "      <td>Yes</td>\n",
       "      <td>No</td>\n",
       "      <td>No</td>\n",
       "      <td>45.20</td>\n",
       "      <td>2460.55</td>\n",
       "      <td>No</td>\n",
       "      <td>Two year</td>\n",
       "      <td>DSL</td>\n",
       "      <td>Credit card (automatic)</td>\n",
       "    </tr>\n",
       "    <tr>\n",
       "      <th>2</th>\n",
       "      <td>3</td>\n",
       "      <td>1</td>\n",
       "      <td>3</td>\n",
       "      <td>0019-GFNTW</td>\n",
       "      <td>Female</td>\n",
       "      <td>0</td>\n",
       "      <td>No</td>\n",
       "      <td>No</td>\n",
       "      <td>56</td>\n",
       "      <td>No</td>\n",
       "      <td>...</td>\n",
       "      <td>Yes</td>\n",
       "      <td>No</td>\n",
       "      <td>No</td>\n",
       "      <td>No</td>\n",
       "      <td>45.05</td>\n",
       "      <td>2560.1</td>\n",
       "      <td>No</td>\n",
       "      <td>Two year</td>\n",
       "      <td>DSL</td>\n",
       "      <td>Bank transfer (automatic)</td>\n",
       "    </tr>\n",
       "    <tr>\n",
       "      <th>3</th>\n",
       "      <td>4</td>\n",
       "      <td>1</td>\n",
       "      <td>3</td>\n",
       "      <td>0056-EPFBG</td>\n",
       "      <td>Male</td>\n",
       "      <td>0</td>\n",
       "      <td>Yes</td>\n",
       "      <td>Yes</td>\n",
       "      <td>20</td>\n",
       "      <td>No</td>\n",
       "      <td>...</td>\n",
       "      <td>Yes</td>\n",
       "      <td>No</td>\n",
       "      <td>No</td>\n",
       "      <td>Yes</td>\n",
       "      <td>39.40</td>\n",
       "      <td>825.4</td>\n",
       "      <td>No</td>\n",
       "      <td>Two year</td>\n",
       "      <td>DSL</td>\n",
       "      <td>Credit card (automatic)</td>\n",
       "    </tr>\n",
       "    <tr>\n",
       "      <th>4</th>\n",
       "      <td>3</td>\n",
       "      <td>1</td>\n",
       "      <td>3</td>\n",
       "      <td>0078-XZMHT</td>\n",
       "      <td>Male</td>\n",
       "      <td>0</td>\n",
       "      <td>Yes</td>\n",
       "      <td>No</td>\n",
       "      <td>72</td>\n",
       "      <td>Yes</td>\n",
       "      <td>...</td>\n",
       "      <td>Yes</td>\n",
       "      <td>Yes</td>\n",
       "      <td>Yes</td>\n",
       "      <td>Yes</td>\n",
       "      <td>85.15</td>\n",
       "      <td>6316.2</td>\n",
       "      <td>No</td>\n",
       "      <td>Two year</td>\n",
       "      <td>DSL</td>\n",
       "      <td>Bank transfer (automatic)</td>\n",
       "    </tr>\n",
       "  </tbody>\n",
       "</table>\n",
       "<p>5 rows × 24 columns</p>\n",
       "</div>"
      ],
      "text/plain": [
       "   payment_type_id  internet_service_type_id  contract_type_id customer_id  \\\n",
       "0                2                         1                 3  0016-QLJIS   \n",
       "1                4                         1                 3  0017-DINOC   \n",
       "2                3                         1                 3  0019-GFNTW   \n",
       "3                4                         1                 3  0056-EPFBG   \n",
       "4                3                         1                 3  0078-XZMHT   \n",
       "\n",
       "   gender  senior_citizen partner dependents  tenure phone_service  ...  \\\n",
       "0  Female               0     Yes        Yes      65           Yes  ...   \n",
       "1    Male               0      No         No      54            No  ...   \n",
       "2  Female               0      No         No      56            No  ...   \n",
       "3    Male               0     Yes        Yes      20            No  ...   \n",
       "4    Male               0     Yes         No      72           Yes  ...   \n",
       "\n",
       "  tech_support streaming_tv streaming_movies paperless_billing  \\\n",
       "0          Yes          Yes              Yes               Yes   \n",
       "1          Yes          Yes               No                No   \n",
       "2          Yes           No               No                No   \n",
       "3          Yes           No               No               Yes   \n",
       "4          Yes          Yes              Yes               Yes   \n",
       "\n",
       "  monthly_charges total_charges churn contract_type  internet_service_type  \\\n",
       "0           90.45        5957.9    No      Two year                    DSL   \n",
       "1           45.20       2460.55    No      Two year                    DSL   \n",
       "2           45.05        2560.1    No      Two year                    DSL   \n",
       "3           39.40         825.4    No      Two year                    DSL   \n",
       "4           85.15        6316.2    No      Two year                    DSL   \n",
       "\n",
       "                payment_type  \n",
       "0               Mailed check  \n",
       "1    Credit card (automatic)  \n",
       "2  Bank transfer (automatic)  \n",
       "3    Credit card (automatic)  \n",
       "4  Bank transfer (automatic)  \n",
       "\n",
       "[5 rows x 24 columns]"
      ]
     },
     "execution_count": 5,
     "metadata": {},
     "output_type": "execute_result"
    }
   ],
   "source": [
    "#check info\n",
    "df.head()"
   ]
  },
  {
   "cell_type": "code",
   "execution_count": 6,
   "metadata": {
    "scrolled": false
   },
   "outputs": [
    {
     "name": "stdout",
     "output_type": "stream",
     "text": [
      "<class 'pandas.core.frame.DataFrame'>\n",
      "Int64Index: 7043 entries, 0 to 7042\n",
      "Data columns (total 24 columns):\n",
      " #   Column                    Non-Null Count  Dtype  \n",
      "---  ------                    --------------  -----  \n",
      " 0   payment_type_id           7043 non-null   int64  \n",
      " 1   internet_service_type_id  7043 non-null   int64  \n",
      " 2   contract_type_id          7043 non-null   int64  \n",
      " 3   customer_id               7043 non-null   object \n",
      " 4   gender                    7043 non-null   object \n",
      " 5   senior_citizen            7043 non-null   int64  \n",
      " 6   partner                   7043 non-null   object \n",
      " 7   dependents                7043 non-null   object \n",
      " 8   tenure                    7043 non-null   int64  \n",
      " 9   phone_service             7043 non-null   object \n",
      " 10  multiple_lines            7043 non-null   object \n",
      " 11  online_security           7043 non-null   object \n",
      " 12  online_backup             7043 non-null   object \n",
      " 13  device_protection         7043 non-null   object \n",
      " 14  tech_support              7043 non-null   object \n",
      " 15  streaming_tv              7043 non-null   object \n",
      " 16  streaming_movies          7043 non-null   object \n",
      " 17  paperless_billing         7043 non-null   object \n",
      " 18  monthly_charges           7043 non-null   float64\n",
      " 19  total_charges             7043 non-null   object \n",
      " 20  churn                     7043 non-null   object \n",
      " 21  contract_type             7043 non-null   object \n",
      " 22  internet_service_type     7043 non-null   object \n",
      " 23  payment_type              7043 non-null   object \n",
      "dtypes: float64(1), int64(5), object(18)\n",
      "memory usage: 1.3+ MB\n"
     ]
    }
   ],
   "source": [
    "df.info()"
   ]
  },
  {
   "cell_type": "code",
   "execution_count": 7,
   "metadata": {},
   "outputs": [
    {
     "data": {
      "text/html": [
       "<div>\n",
       "<style scoped>\n",
       "    .dataframe tbody tr th:only-of-type {\n",
       "        vertical-align: middle;\n",
       "    }\n",
       "\n",
       "    .dataframe tbody tr th {\n",
       "        vertical-align: top;\n",
       "    }\n",
       "\n",
       "    .dataframe thead th {\n",
       "        text-align: right;\n",
       "    }\n",
       "</style>\n",
       "<table border=\"1\" class=\"dataframe\">\n",
       "  <thead>\n",
       "    <tr style=\"text-align: right;\">\n",
       "      <th></th>\n",
       "      <th>count</th>\n",
       "      <th>mean</th>\n",
       "      <th>std</th>\n",
       "      <th>min</th>\n",
       "      <th>25%</th>\n",
       "      <th>50%</th>\n",
       "      <th>75%</th>\n",
       "      <th>max</th>\n",
       "    </tr>\n",
       "  </thead>\n",
       "  <tbody>\n",
       "    <tr>\n",
       "      <th>payment_type_id</th>\n",
       "      <td>7043.0</td>\n",
       "      <td>2.315633</td>\n",
       "      <td>1.148907</td>\n",
       "      <td>1.00</td>\n",
       "      <td>1.0</td>\n",
       "      <td>2.00</td>\n",
       "      <td>3.00</td>\n",
       "      <td>4.00</td>\n",
       "    </tr>\n",
       "    <tr>\n",
       "      <th>internet_service_type_id</th>\n",
       "      <td>7043.0</td>\n",
       "      <td>1.872923</td>\n",
       "      <td>0.737796</td>\n",
       "      <td>1.00</td>\n",
       "      <td>1.0</td>\n",
       "      <td>2.00</td>\n",
       "      <td>2.00</td>\n",
       "      <td>3.00</td>\n",
       "    </tr>\n",
       "    <tr>\n",
       "      <th>contract_type_id</th>\n",
       "      <td>7043.0</td>\n",
       "      <td>1.690473</td>\n",
       "      <td>0.833755</td>\n",
       "      <td>1.00</td>\n",
       "      <td>1.0</td>\n",
       "      <td>1.00</td>\n",
       "      <td>2.00</td>\n",
       "      <td>3.00</td>\n",
       "    </tr>\n",
       "    <tr>\n",
       "      <th>senior_citizen</th>\n",
       "      <td>7043.0</td>\n",
       "      <td>0.162147</td>\n",
       "      <td>0.368612</td>\n",
       "      <td>0.00</td>\n",
       "      <td>0.0</td>\n",
       "      <td>0.00</td>\n",
       "      <td>0.00</td>\n",
       "      <td>1.00</td>\n",
       "    </tr>\n",
       "    <tr>\n",
       "      <th>tenure</th>\n",
       "      <td>7043.0</td>\n",
       "      <td>32.371149</td>\n",
       "      <td>24.559481</td>\n",
       "      <td>0.00</td>\n",
       "      <td>9.0</td>\n",
       "      <td>29.00</td>\n",
       "      <td>55.00</td>\n",
       "      <td>72.00</td>\n",
       "    </tr>\n",
       "    <tr>\n",
       "      <th>monthly_charges</th>\n",
       "      <td>7043.0</td>\n",
       "      <td>64.761692</td>\n",
       "      <td>30.090047</td>\n",
       "      <td>18.25</td>\n",
       "      <td>35.5</td>\n",
       "      <td>70.35</td>\n",
       "      <td>89.85</td>\n",
       "      <td>118.75</td>\n",
       "    </tr>\n",
       "  </tbody>\n",
       "</table>\n",
       "</div>"
      ],
      "text/plain": [
       "                           count       mean        std    min   25%    50%  \\\n",
       "payment_type_id           7043.0   2.315633   1.148907   1.00   1.0   2.00   \n",
       "internet_service_type_id  7043.0   1.872923   0.737796   1.00   1.0   2.00   \n",
       "contract_type_id          7043.0   1.690473   0.833755   1.00   1.0   1.00   \n",
       "senior_citizen            7043.0   0.162147   0.368612   0.00   0.0   0.00   \n",
       "tenure                    7043.0  32.371149  24.559481   0.00   9.0  29.00   \n",
       "monthly_charges           7043.0  64.761692  30.090047  18.25  35.5  70.35   \n",
       "\n",
       "                            75%     max  \n",
       "payment_type_id            3.00    4.00  \n",
       "internet_service_type_id   2.00    3.00  \n",
       "contract_type_id           2.00    3.00  \n",
       "senior_citizen             0.00    1.00  \n",
       "tenure                    55.00   72.00  \n",
       "monthly_charges           89.85  118.75  "
      ]
     },
     "execution_count": 7,
     "metadata": {},
     "output_type": "execute_result"
    }
   ],
   "source": [
    "df.describe().T"
   ]
  },
  {
   "cell_type": "code",
   "execution_count": null,
   "metadata": {
    "scrolled": true
   },
   "outputs": [],
   "source": [
    "#checking the information in this column\n",
    "df.contract_type_id.value_counts()"
   ]
  },
  {
   "cell_type": "code",
   "execution_count": null,
   "metadata": {},
   "outputs": [],
   "source": [
    "df.contract_type.value_counts()"
   ]
  },
  {
   "cell_type": "code",
   "execution_count": null,
   "metadata": {},
   "outputs": [],
   "source": [
    "#getting only the customers who have 2 year contract using the condition df.contract_type_id == 3\n",
    "telco_df = df[['customer_id', 'monthly_charges', 'tenure', 'total_charges']][df.contract_type_id == 3]\n",
    "telco_df.head()"
   ]
  },
  {
   "cell_type": "code",
   "execution_count": null,
   "metadata": {},
   "outputs": [],
   "source": [
    "telco_df.shape"
   ]
  },
  {
   "cell_type": "markdown",
   "metadata": {},
   "source": [
    "____________"
   ]
  },
  {
   "cell_type": "code",
   "execution_count": 8,
   "metadata": {},
   "outputs": [],
   "source": [
    "#other way to do it is if I have a generic function so I can use a different query\n",
    "query = \"\"\"\n",
    "        SELECT \n",
    "            customer_id, \n",
    "            monthly_charges, \n",
    "            tenure, \n",
    "            total_charges\n",
    "        FROM customers\n",
    "        WHERE contract_type_id = 3;\n",
    "        \"\"\"\n",
    "\n",
    "df2 = a.get_data_from_sql('telco_churn', query)"
   ]
  },
  {
   "cell_type": "code",
   "execution_count": 9,
   "metadata": {},
   "outputs": [
    {
     "data": {
      "text/html": [
       "<div>\n",
       "<style scoped>\n",
       "    .dataframe tbody tr th:only-of-type {\n",
       "        vertical-align: middle;\n",
       "    }\n",
       "\n",
       "    .dataframe tbody tr th {\n",
       "        vertical-align: top;\n",
       "    }\n",
       "\n",
       "    .dataframe thead th {\n",
       "        text-align: right;\n",
       "    }\n",
       "</style>\n",
       "<table border=\"1\" class=\"dataframe\">\n",
       "  <thead>\n",
       "    <tr style=\"text-align: right;\">\n",
       "      <th></th>\n",
       "      <th>customer_id</th>\n",
       "      <th>monthly_charges</th>\n",
       "      <th>tenure</th>\n",
       "      <th>total_charges</th>\n",
       "    </tr>\n",
       "  </thead>\n",
       "  <tbody>\n",
       "    <tr>\n",
       "      <th>0</th>\n",
       "      <td>0013-SMEOE</td>\n",
       "      <td>109.7</td>\n",
       "      <td>71</td>\n",
       "      <td>7904.25</td>\n",
       "    </tr>\n",
       "  </tbody>\n",
       "</table>\n",
       "</div>"
      ],
      "text/plain": [
       "  customer_id  monthly_charges  tenure total_charges\n",
       "0  0013-SMEOE            109.7      71       7904.25"
      ]
     },
     "execution_count": 9,
     "metadata": {},
     "output_type": "execute_result"
    }
   ],
   "source": [
    "df2.head(1)"
   ]
  },
  {
   "cell_type": "code",
   "execution_count": 10,
   "metadata": {},
   "outputs": [
    {
     "data": {
      "text/plain": [
       "(1695, 4)"
      ]
     },
     "execution_count": 10,
     "metadata": {},
     "output_type": "execute_result"
    }
   ],
   "source": [
    "df2.shape"
   ]
  },
  {
   "cell_type": "code",
   "execution_count": 11,
   "metadata": {},
   "outputs": [
    {
     "name": "stdout",
     "output_type": "stream",
     "text": [
      "<class 'pandas.core.frame.DataFrame'>\n",
      "RangeIndex: 1695 entries, 0 to 1694\n",
      "Data columns (total 4 columns):\n",
      " #   Column           Non-Null Count  Dtype  \n",
      "---  ------           --------------  -----  \n",
      " 0   customer_id      1695 non-null   object \n",
      " 1   monthly_charges  1695 non-null   float64\n",
      " 2   tenure           1695 non-null   int64  \n",
      " 3   total_charges    1695 non-null   object \n",
      "dtypes: float64(1), int64(1), object(2)\n",
      "memory usage: 53.1+ KB\n"
     ]
    }
   ],
   "source": [
    "df2.info()"
   ]
  },
  {
   "cell_type": "code",
   "execution_count": null,
   "metadata": {},
   "outputs": [],
   "source": [
    "df2.describe()"
   ]
  },
  {
   "cell_type": "markdown",
   "metadata": {},
   "source": [
    "___________________"
   ]
  },
  {
   "cell_type": "markdown",
   "metadata": {},
   "source": [
    "**Takeaways**\n",
    "- customer_id and otal_charges are object data type. for total_charges should be float type. \n",
    "- tenure has a minimum value of 0. that means new customers\n",
    "- I don't seem to have any Null values"
   ]
  },
  {
   "cell_type": "markdown",
   "metadata": {},
   "source": [
    "_____________________"
   ]
  },
  {
   "cell_type": "markdown",
   "metadata": {},
   "source": [
    "**2. Using your acquired Telco data, walk through the summarization and cleaning steps in your wrangle.ipynb file like we did above. You may handle the missing values however you feel is appropriate and meaningful; remember to document your process and decisions using markdown and code commenting where helpful.**"
   ]
  },
  {
   "cell_type": "code",
   "execution_count": null,
   "metadata": {
    "scrolled": true
   },
   "outputs": [],
   "source": [
    "#checking information of the columns. we noticed  total_charges is object type\n",
    "telco_df.info()"
   ]
  },
  {
   "cell_type": "code",
   "execution_count": null,
   "metadata": {},
   "outputs": [],
   "source": [
    "#drop duplicates\n",
    "telco_df = telco_df.drop_duplicates()"
   ]
  },
  {
   "cell_type": "code",
   "execution_count": null,
   "metadata": {
    "scrolled": true
   },
   "outputs": [],
   "source": [
    "# Find the total number of Null values in each column of our DataFrame.\n",
    "telco_df.isnull().sum()"
   ]
  },
  {
   "cell_type": "code",
   "execution_count": null,
   "metadata": {
    "scrolled": true
   },
   "outputs": [],
   "source": [
    "# Check for any Null values in each column of our DataFrame.\n",
    "\n",
    "telco_df.isnull().any()"
   ]
  },
  {
   "cell_type": "code",
   "execution_count": null,
   "metadata": {},
   "outputs": [],
   "source": [
    "# Return the names for any columns in our DataFrame with any Null values.\n",
    "\n",
    "df.columns[df.isnull().any()]"
   ]
  },
  {
   "cell_type": "code",
   "execution_count": null,
   "metadata": {},
   "outputs": [],
   "source": [
    "#trying to change total_charges to float\n",
    "#telco_df['total_charges'].astype('float')\n",
    "#when we run the code to convert to float, we get an error (could not convert string to float: ''), there is a space \n",
    "#in some values"
   ]
  },
  {
   "cell_type": "code",
   "execution_count": null,
   "metadata": {
    "scrolled": true
   },
   "outputs": [],
   "source": [
    "#these are the observations that have space in total charges\n",
    "#these customers are new customers becuase they have a tenure of 0 and have not done their first payment. \n",
    "telco_df[telco_df['total_charges']== ' ']"
   ]
  },
  {
   "cell_type": "code",
   "execution_count": null,
   "metadata": {
    "scrolled": true
   },
   "outputs": [],
   "source": [
    "\n",
    "# I wll add a '0' only to these customers\n",
    "#\n",
    "telco_df[telco_df['total_charges']== ' '] = telco_df[telco_df['total_charges']== ' '].replace(' ','0')"
   ]
  },
  {
   "cell_type": "code",
   "execution_count": null,
   "metadata": {
    "scrolled": true
   },
   "outputs": [],
   "source": [
    "#checking the info\n",
    "telco_df[telco_df['total_charges']== '0']"
   ]
  },
  {
   "cell_type": "code",
   "execution_count": null,
   "metadata": {
    "scrolled": true
   },
   "outputs": [],
   "source": [
    "#now I can convert total_charges to float\n",
    "telco_df['total_charges']= telco_df['total_charges'].astype('float')"
   ]
  },
  {
   "cell_type": "code",
   "execution_count": null,
   "metadata": {
    "scrolled": true
   },
   "outputs": [],
   "source": [
    "telco_df.info()"
   ]
  },
  {
   "cell_type": "code",
   "execution_count": null,
   "metadata": {},
   "outputs": [],
   "source": [
    "telco_df.shape"
   ]
  },
  {
   "cell_type": "markdown",
   "metadata": {},
   "source": [
    "____________"
   ]
  },
  {
   "cell_type": "markdown",
   "metadata": {},
   "source": [
    "What if the total charges that are 0 I  change them to 1 since they were probably customers for about a month."
   ]
  },
  {
   "cell_type": "code",
   "execution_count": null,
   "metadata": {
    "scrolled": true
   },
   "outputs": [],
   "source": [
    "df2.tenure.value_counts().sort_index().head()"
   ]
  },
  {
   "cell_type": "code",
   "execution_count": null,
   "metadata": {},
   "outputs": [],
   "source": [
    "# Replace any tenures of 0 with 1.\n",
    "\n",
    "df2.tenure = df2.tenure.replace(0, 1)"
   ]
  },
  {
   "cell_type": "code",
   "execution_count": null,
   "metadata": {},
   "outputs": [],
   "source": [
    "\n",
    "# Validate my tenure count for value 1; I went from two to 12.\n",
    "\n",
    "df2.tenure.value_counts().sort_index().head()"
   ]
  },
  {
   "cell_type": "code",
   "execution_count": null,
   "metadata": {
    "scrolled": true
   },
   "outputs": [],
   "source": [
    "# These observations also need total_charges handled. \n",
    "# The other tenure 1 observations have same monthly and total charges.\n",
    "\n",
    "df2[df2.tenure == 1]"
   ]
  },
  {
   "cell_type": "code",
   "execution_count": null,
   "metadata": {},
   "outputs": [],
   "source": [
    "# Replace the blank total_charges with the monthly_charge for tenure == 1.\n",
    "\n",
    "df.total_charges = np.where(df.total_charges==' ', df.monthly_charges, df.total_charges)"
   ]
  },
  {
   "cell_type": "code",
   "execution_count": null,
   "metadata": {},
   "outputs": [],
   "source": [
    "# Validate my changes.\n",
    "\n",
    "df[df.tenure == 1]"
   ]
  },
  {
   "cell_type": "markdown",
   "metadata": {},
   "source": [
    "**3. End with a wrangle.py file that contains the necessary functions to automate your process from acquiring the data to returning a cleaned dataframe with no missing values. Name your final function wrangle_telco.**"
   ]
  },
  {
   "cell_type": "code",
   "execution_count": null,
   "metadata": {},
   "outputs": [],
   "source": [
    "\n",
    "# Handle the data type for total_charges.\n",
    "\n",
    "df.total_charges = df.total_charges.astype(float)"
   ]
  },
  {
   "cell_type": "code",
   "execution_count": null,
   "metadata": {},
   "outputs": [],
   "source": []
  },
  {
   "cell_type": "code",
   "execution_count": null,
   "metadata": {
    "scrolled": true
   },
   "outputs": [],
   "source": [
    "# Validate my data type conversion.\n",
    "\n",
    "df.info()"
   ]
  },
  {
   "cell_type": "markdown",
   "metadata": {},
   "source": [
    "____________"
   ]
  },
  {
   "cell_type": "code",
   "execution_count": null,
   "metadata": {},
   "outputs": [],
   "source": [
    "#creating my functions"
   ]
  },
  {
   "cell_type": "code",
   "execution_count": null,
   "metadata": {},
   "outputs": [],
   "source": [
    "def clean_telco(df):\n",
    "    ''''\n",
    "    This function will get customer_id, monthly_charges, tenure, and total_charges \n",
    "    from the previously acquired telco df, for all customers with a 2-year contract.\n",
    "    drop any duplicate observations, \n",
    "    conver total_charges to a float type.\n",
    "    return cleaned telco DataFrame\n",
    "    '''\n",
    "    #getting only the customers who have 2 year contract using the condition df.contract_type_id == 3\n",
    "    telco_df = df[['customer_id', 'monthly_charges', 'tenure', 'total_charges']][df.contract_type_id == 3]\n",
    "    #drop duplicates\n",
    "    telco_df = telco_df.drop_duplicates()\n",
    "    # add a '0' only to the columns that have \" \"\n",
    "    telco_df[telco_df['total_charges']== ' '] = telco_df[telco_df['total_charges']== ' '].replace(' ','0')\n",
    "    # convert total_charges to float\n",
    "    telco_df['total_charges']= telco_df['total_charges'].astype('float')\n",
    "        \n",
    "    return telco_df"
   ]
  },
  {
   "cell_type": "code",
   "execution_count": null,
   "metadata": {},
   "outputs": [],
   "source": [
    "def split_data(df):\n",
    "    '''\n",
    "    take in a DataFrame and return train, validate, and test DataFrames.\n",
    "    \n",
    "    '''\n",
    "    train_validate, test = train_test_split(df, test_size=.2, random_state=123)\n",
    "    train, validate = train_test_split(train_validate, \n",
    "                                       test_size=.3, \n",
    "                                       random_state=123)\n",
    "    print(f'train -> {train.shape}')\n",
    "    print(f'validate -> {validate.shape}')\n",
    "    print(f'test -> {test.shape}')\n",
    "    return train, validate, test"
   ]
  },
  {
   "cell_type": "code",
   "execution_count": null,
   "metadata": {},
   "outputs": [],
   "source": [
    "def wrangle_telco():\n",
    "    ''''\n",
    "    This function will acquire telco db using get_telco function. then it will use another\n",
    "    function named  clean_telco that create a new df only with  customer_id, monthly_charges, tenure, and total_charges \n",
    "    from the previously acquired telco df, this new df will contain only customers with a 2-year contract.\n",
    "    drop any duplicate observations, \n",
    "    conver total_charges to a float type.\n",
    "    return cleaned telco DataFrame\n",
    "    '''\n",
    "    df = acquire.get_telco()\n",
    "    telco_df = clean_telco(df)\n",
    "    return telco_df\n",
    "    "
   ]
  },
  {
   "cell_type": "code",
   "execution_count": null,
   "metadata": {},
   "outputs": [],
   "source": [
    "#using my functions that are in wrangle.py"
   ]
  },
  {
   "cell_type": "code",
   "execution_count": 2,
   "metadata": {},
   "outputs": [],
   "source": [
    "df = w.wrangle_telco()"
   ]
  },
  {
   "cell_type": "code",
   "execution_count": 3,
   "metadata": {},
   "outputs": [
    {
     "data": {
      "text/html": [
       "<div>\n",
       "<style scoped>\n",
       "    .dataframe tbody tr th:only-of-type {\n",
       "        vertical-align: middle;\n",
       "    }\n",
       "\n",
       "    .dataframe tbody tr th {\n",
       "        vertical-align: top;\n",
       "    }\n",
       "\n",
       "    .dataframe thead th {\n",
       "        text-align: right;\n",
       "    }\n",
       "</style>\n",
       "<table border=\"1\" class=\"dataframe\">\n",
       "  <thead>\n",
       "    <tr style=\"text-align: right;\">\n",
       "      <th></th>\n",
       "      <th>customer_id</th>\n",
       "      <th>monthly_charges</th>\n",
       "      <th>tenure</th>\n",
       "      <th>total_charges</th>\n",
       "    </tr>\n",
       "  </thead>\n",
       "  <tbody>\n",
       "    <tr>\n",
       "      <th>0</th>\n",
       "      <td>0016-QLJIS</td>\n",
       "      <td>90.45</td>\n",
       "      <td>65</td>\n",
       "      <td>5957.90</td>\n",
       "    </tr>\n",
       "    <tr>\n",
       "      <th>1</th>\n",
       "      <td>0017-DINOC</td>\n",
       "      <td>45.20</td>\n",
       "      <td>54</td>\n",
       "      <td>2460.55</td>\n",
       "    </tr>\n",
       "    <tr>\n",
       "      <th>2</th>\n",
       "      <td>0019-GFNTW</td>\n",
       "      <td>45.05</td>\n",
       "      <td>56</td>\n",
       "      <td>2560.10</td>\n",
       "    </tr>\n",
       "    <tr>\n",
       "      <th>3</th>\n",
       "      <td>0056-EPFBG</td>\n",
       "      <td>39.40</td>\n",
       "      <td>20</td>\n",
       "      <td>825.40</td>\n",
       "    </tr>\n",
       "    <tr>\n",
       "      <th>4</th>\n",
       "      <td>0078-XZMHT</td>\n",
       "      <td>85.15</td>\n",
       "      <td>72</td>\n",
       "      <td>6316.20</td>\n",
       "    </tr>\n",
       "  </tbody>\n",
       "</table>\n",
       "</div>"
      ],
      "text/plain": [
       "  customer_id  monthly_charges  tenure  total_charges\n",
       "0  0016-QLJIS            90.45      65        5957.90\n",
       "1  0017-DINOC            45.20      54        2460.55\n",
       "2  0019-GFNTW            45.05      56        2560.10\n",
       "3  0056-EPFBG            39.40      20         825.40\n",
       "4  0078-XZMHT            85.15      72        6316.20"
      ]
     },
     "execution_count": 3,
     "metadata": {},
     "output_type": "execute_result"
    }
   ],
   "source": [
    "df.head()"
   ]
  },
  {
   "cell_type": "code",
   "execution_count": 4,
   "metadata": {},
   "outputs": [
    {
     "data": {
      "text/plain": [
       "(1695, 4)"
      ]
     },
     "execution_count": 4,
     "metadata": {},
     "output_type": "execute_result"
    }
   ],
   "source": [
    "df.shape"
   ]
  },
  {
   "cell_type": "code",
   "execution_count": 5,
   "metadata": {},
   "outputs": [
    {
     "name": "stdout",
     "output_type": "stream",
     "text": [
      "train -> (949, 4)\n",
      "validate -> (407, 4)\n",
      "test -> (339, 4)\n"
     ]
    }
   ],
   "source": [
    "train, validate, test = w.split_data(df)"
   ]
  },
  {
   "cell_type": "code",
   "execution_count": null,
   "metadata": {},
   "outputs": [],
   "source": []
  },
  {
   "cell_type": "markdown",
   "metadata": {},
   "source": [
    "## Exercises III - Challenge"
   ]
  },
  {
   "cell_type": "markdown",
   "metadata": {},
   "source": [
    "Let's set up an example scenario as perspective for our regression exercises using the Zillow dataset.\n",
    "\n",
    "As a Codeup data science graduate, you want to show off your skills to the Zillow data science team in hopes of getting an interview for a position you saw pop up on LinkedIn. You thought it might look impressive to build an end-to-end project in which you use some of their Kaggle data to predict property values using some of their available features; who knows, you might even do some feature engineering to blow them away. Your goal is to predict the values of single unit properties using the obervations from 2017.\n",
    "\n",
    "In these exercises, you will complete the first step toward the above goal: acquire and prepare the necessary Zillow data from the zillow database in the Codeup database server."
   ]
  },
  {
   "cell_type": "markdown",
   "metadata": {},
   "source": [
    "**1. Acquire bedroomcnt, bathroomcnt, calculatedfinishedsquarefeet, taxvaluedollarcnt, yearbuilt, taxamount, and fips from the zillow database for all 'Single Family Residential' properties.**"
   ]
  },
  {
   "cell_type": "code",
   "execution_count": 12,
   "metadata": {},
   "outputs": [],
   "source": [
    "zillow_df= a.get_new_zillow()"
   ]
  },
  {
   "cell_type": "code",
   "execution_count": 13,
   "metadata": {},
   "outputs": [],
   "source": [
    "#I'm doing this because it takes a long time to get the db from sql\n",
    "z_df = zillow_df"
   ]
  },
  {
   "cell_type": "code",
   "execution_count": 14,
   "metadata": {
    "scrolled": true
   },
   "outputs": [
    {
     "data": {
      "text/html": [
       "<div>\n",
       "<style scoped>\n",
       "    .dataframe tbody tr th:only-of-type {\n",
       "        vertical-align: middle;\n",
       "    }\n",
       "\n",
       "    .dataframe tbody tr th {\n",
       "        vertical-align: top;\n",
       "    }\n",
       "\n",
       "    .dataframe thead th {\n",
       "        text-align: right;\n",
       "    }\n",
       "</style>\n",
       "<table border=\"1\" class=\"dataframe\">\n",
       "  <thead>\n",
       "    <tr style=\"text-align: right;\">\n",
       "      <th></th>\n",
       "      <th>bedroomcnt</th>\n",
       "      <th>bathroomcnt</th>\n",
       "      <th>calculatedfinishedsquarefeet</th>\n",
       "      <th>taxvaluedollarcnt</th>\n",
       "      <th>yearbuilt</th>\n",
       "      <th>taxamount</th>\n",
       "      <th>fips</th>\n",
       "    </tr>\n",
       "  </thead>\n",
       "  <tbody>\n",
       "    <tr>\n",
       "      <th>0</th>\n",
       "      <td>0.0</td>\n",
       "      <td>0.0</td>\n",
       "      <td>NaN</td>\n",
       "      <td>27516.0</td>\n",
       "      <td>NaN</td>\n",
       "      <td>NaN</td>\n",
       "      <td>6037.0</td>\n",
       "    </tr>\n",
       "    <tr>\n",
       "      <th>1</th>\n",
       "      <td>0.0</td>\n",
       "      <td>0.0</td>\n",
       "      <td>NaN</td>\n",
       "      <td>10.0</td>\n",
       "      <td>NaN</td>\n",
       "      <td>NaN</td>\n",
       "      <td>6037.0</td>\n",
       "    </tr>\n",
       "    <tr>\n",
       "      <th>2</th>\n",
       "      <td>0.0</td>\n",
       "      <td>0.0</td>\n",
       "      <td>NaN</td>\n",
       "      <td>10.0</td>\n",
       "      <td>NaN</td>\n",
       "      <td>NaN</td>\n",
       "      <td>6037.0</td>\n",
       "    </tr>\n",
       "    <tr>\n",
       "      <th>3</th>\n",
       "      <td>0.0</td>\n",
       "      <td>0.0</td>\n",
       "      <td>NaN</td>\n",
       "      <td>2108.0</td>\n",
       "      <td>NaN</td>\n",
       "      <td>174.21</td>\n",
       "      <td>6037.0</td>\n",
       "    </tr>\n",
       "    <tr>\n",
       "      <th>4</th>\n",
       "      <td>4.0</td>\n",
       "      <td>2.0</td>\n",
       "      <td>3633.0</td>\n",
       "      <td>296425.0</td>\n",
       "      <td>2005.0</td>\n",
       "      <td>6941.39</td>\n",
       "      <td>6037.0</td>\n",
       "    </tr>\n",
       "  </tbody>\n",
       "</table>\n",
       "</div>"
      ],
      "text/plain": [
       "   bedroomcnt  bathroomcnt  calculatedfinishedsquarefeet  taxvaluedollarcnt  \\\n",
       "0         0.0          0.0                           NaN            27516.0   \n",
       "1         0.0          0.0                           NaN               10.0   \n",
       "2         0.0          0.0                           NaN               10.0   \n",
       "3         0.0          0.0                           NaN             2108.0   \n",
       "4         4.0          2.0                        3633.0           296425.0   \n",
       "\n",
       "   yearbuilt  taxamount    fips  \n",
       "0        NaN        NaN  6037.0  \n",
       "1        NaN        NaN  6037.0  \n",
       "2        NaN        NaN  6037.0  \n",
       "3        NaN     174.21  6037.0  \n",
       "4     2005.0    6941.39  6037.0  "
      ]
     },
     "execution_count": 14,
     "metadata": {},
     "output_type": "execute_result"
    }
   ],
   "source": [
    "zillow_df.head()"
   ]
  },
  {
   "cell_type": "code",
   "execution_count": 15,
   "metadata": {},
   "outputs": [
    {
     "data": {
      "text/plain": [
       "(2152863, 7)"
      ]
     },
     "execution_count": 15,
     "metadata": {},
     "output_type": "execute_result"
    }
   ],
   "source": [
    "\n",
    "zillow_df.shape"
   ]
  },
  {
   "cell_type": "code",
   "execution_count": 16,
   "metadata": {},
   "outputs": [
    {
     "name": "stdout",
     "output_type": "stream",
     "text": [
      "<class 'pandas.core.frame.DataFrame'>\n",
      "RangeIndex: 2152863 entries, 0 to 2152862\n",
      "Data columns (total 7 columns):\n",
      " #   Column                        Dtype  \n",
      "---  ------                        -----  \n",
      " 0   bedroomcnt                    float64\n",
      " 1   bathroomcnt                   float64\n",
      " 2   calculatedfinishedsquarefeet  float64\n",
      " 3   taxvaluedollarcnt             float64\n",
      " 4   yearbuilt                     float64\n",
      " 5   taxamount                     float64\n",
      " 6   fips                          float64\n",
      "dtypes: float64(7)\n",
      "memory usage: 115.0 MB\n"
     ]
    }
   ],
   "source": [
    "zillow_df.info()"
   ]
  },
  {
   "cell_type": "code",
   "execution_count": null,
   "metadata": {
    "scrolled": false
   },
   "outputs": [],
   "source": [
    "zillow_df.info(null_counts=True)"
   ]
  },
  {
   "cell_type": "code",
   "execution_count": null,
   "metadata": {},
   "outputs": [],
   "source": []
  },
  {
   "cell_type": "code",
   "execution_count": null,
   "metadata": {},
   "outputs": [],
   "source": [
    "df.describe().T"
   ]
  },
  {
   "cell_type": "markdown",
   "metadata": {},
   "source": [
    "2. Using your acquired Zillow data, walk through the summarization and cleaning steps in your wrangle.ipynb file like we did above. You may handle the missing values however you feel is appropriate and meaninful; remember to document your process and decisions using markdown and code commenting where helpful."
   ]
  },
  {
   "cell_type": "code",
   "execution_count": null,
   "metadata": {
    "scrolled": true
   },
   "outputs": [],
   "source": [
    "# checking the info \n",
    "zillow_df.info()"
   ]
  },
  {
   "cell_type": "code",
   "execution_count": null,
   "metadata": {
    "scrolled": false
   },
   "outputs": [],
   "source": [
    "# this shows us non-nulls\n",
    "zillow_df.info(null_counts=True)"
   ]
  },
  {
   "cell_type": "code",
   "execution_count": 68,
   "metadata": {},
   "outputs": [],
   "source": [
    "\n",
    "def miss_dup_values(df):\n",
    "    '''\n",
    "    this function takes a dataframe as input and will output metrics for missing values and duplicated rows, \n",
    "    and the percent of that column that has missing values and duplicated rows\n",
    "    '''\n",
    "        # Total missing values\n",
    "    mis_val = df.isnull().sum()\n",
    "        # Percentage of missing values\n",
    "    mis_val_percent = 100 * df.isnull().sum() / len(df)\n",
    "        #total of duplicated\n",
    "    dup = df.duplicated().sum()  \n",
    "        # Percentage of missing values\n",
    "    dup_percent = 100 * dup / len(df)\n",
    "        # Make a table with the results\n",
    "    mis_val_table = pd.concat([mis_val, mis_val_percent], axis=1)\n",
    "        # Rename the columns\n",
    "    mis_val_table_ren_columns = mis_val_table.rename(columns = {0 : 'Missing Values', 1 : '% of Total Values'})\n",
    "        # Sort the table by percentage of missing descending\n",
    "    mis_val_table_ren_columns = mis_val_table_ren_columns[\n",
    "    mis_val_table_ren_columns.iloc[:,1] != 0].sort_values('% of Total Values', ascending=False).round(1)\n",
    "        # Print some summary information\n",
    "    print (\"Your selected dataframe has \" + str(df.shape[1]) + \" columns.\\n\"      \n",
    "           \"There are \" + str(mis_val_table_ren_columns.shape[0]) +\n",
    "           \" columns that have missing values.\")\n",
    "    print( \"  \")\n",
    "    print (f\"** There are {dup} duplicate rows that represents {round(dup_percent, 2)}% of total Values**\")\n",
    "        # Return the dataframe with missing information\n",
    "    return mis_val_table_ren_columns"
   ]
  },
  {
   "cell_type": "code",
   "execution_count": 69,
   "metadata": {},
   "outputs": [
    {
     "name": "stdout",
     "output_type": "stream",
     "text": [
      "Your selected dataframe has 7 columns.\n",
      "There are 0 columns that have missing values.\n",
      "  \n",
      "** There are 0 duplicate rows that represents 0.0% of total Values**\n"
     ]
    },
    {
     "data": {
      "text/html": [
       "<div>\n",
       "<style scoped>\n",
       "    .dataframe tbody tr th:only-of-type {\n",
       "        vertical-align: middle;\n",
       "    }\n",
       "\n",
       "    .dataframe tbody tr th {\n",
       "        vertical-align: top;\n",
       "    }\n",
       "\n",
       "    .dataframe thead th {\n",
       "        text-align: right;\n",
       "    }\n",
       "</style>\n",
       "<table border=\"1\" class=\"dataframe\">\n",
       "  <thead>\n",
       "    <tr style=\"text-align: right;\">\n",
       "      <th></th>\n",
       "      <th>Missing Values</th>\n",
       "      <th>% of Total Values</th>\n",
       "    </tr>\n",
       "  </thead>\n",
       "  <tbody>\n",
       "  </tbody>\n",
       "</table>\n",
       "</div>"
      ],
      "text/plain": [
       "Empty DataFrame\n",
       "Columns: [Missing Values, % of Total Values]\n",
       "Index: []"
      ]
     },
     "execution_count": 69,
     "metadata": {},
     "output_type": "execute_result"
    }
   ],
   "source": [
    "#using the function above\n",
    "miss_dup_values(zillow_df)"
   ]
  },
  {
   "cell_type": "code",
   "execution_count": 24,
   "metadata": {},
   "outputs": [
    {
     "name": "stdout",
     "output_type": "stream",
     "text": [
      "<class 'pandas.core.frame.DataFrame'>\n",
      "RangeIndex: 2152863 entries, 0 to 2152862\n",
      "Data columns (total 7 columns):\n",
      " #   Column                        Non-Null Count    Dtype  \n",
      "---  ------                        --------------    -----  \n",
      " 0   bedroomcnt                    2152852 non-null  float64\n",
      " 1   bathroomcnt                   2152852 non-null  float64\n",
      " 2   calculatedfinishedsquarefeet  2144379 non-null  float64\n",
      " 3   taxvaluedollarcnt             2152370 non-null  float64\n",
      " 4   yearbuilt                     2143526 non-null  float64\n",
      " 5   taxamount                     2148421 non-null  float64\n",
      " 6   fips                          2152863 non-null  float64\n",
      "dtypes: float64(7)\n",
      "memory usage: 115.0 MB\n"
     ]
    }
   ],
   "source": [
    "# this shows us non-nulls\n",
    "zillow_df.info(null_counts=True)"
   ]
  },
  {
   "cell_type": "code",
   "execution_count": 70,
   "metadata": {},
   "outputs": [
    {
     "data": {
      "text/plain": [
       "19"
      ]
     },
     "execution_count": 70,
     "metadata": {},
     "output_type": "execute_result"
    }
   ],
   "source": [
    "zillow_df['bedroomcnt'].nunique()"
   ]
  },
  {
   "cell_type": "code",
   "execution_count": 36,
   "metadata": {
    "scrolled": true
   },
   "outputs": [
    {
     "data": {
      "text/plain": [
       "0.0      13187\n",
       "1.0      23166\n",
       "2.0     335473\n",
       "3.0     964298\n",
       "4.0     634289\n",
       "5.0     150866\n",
       "6.0      25166\n",
       "7.0       4807\n",
       "8.0       1107\n",
       "9.0        291\n",
       "10.0       121\n",
       "11.0        34\n",
       "12.0        12\n",
       "13.0        16\n",
       "14.0         7\n",
       "15.0         6\n",
       "16.0         2\n",
       "18.0         3\n",
       "25.0         1\n",
       "Name: bedroomcnt, dtype: int64"
      ]
     },
     "execution_count": 36,
     "metadata": {},
     "output_type": "execute_result"
    }
   ],
   "source": [
    "zillow_df['bedroomcnt'].value_counts().sort_index()"
   ]
  },
  {
   "cell_type": "code",
   "execution_count": 37,
   "metadata": {
    "scrolled": false
   },
   "outputs": [
    {
     "data": {
      "text/html": [
       "<div>\n",
       "<style scoped>\n",
       "    .dataframe tbody tr th:only-of-type {\n",
       "        vertical-align: middle;\n",
       "    }\n",
       "\n",
       "    .dataframe tbody tr th {\n",
       "        vertical-align: top;\n",
       "    }\n",
       "\n",
       "    .dataframe thead th {\n",
       "        text-align: right;\n",
       "    }\n",
       "</style>\n",
       "<table border=\"1\" class=\"dataframe\">\n",
       "  <thead>\n",
       "    <tr style=\"text-align: right;\">\n",
       "      <th></th>\n",
       "      <th>bedroomcnt</th>\n",
       "      <th>bathroomcnt</th>\n",
       "      <th>calculatedfinishedsquarefeet</th>\n",
       "      <th>taxvaluedollarcnt</th>\n",
       "      <th>yearbuilt</th>\n",
       "      <th>taxamount</th>\n",
       "      <th>fips</th>\n",
       "    </tr>\n",
       "  </thead>\n",
       "  <tbody>\n",
       "    <tr>\n",
       "      <th>0</th>\n",
       "      <td>0.0</td>\n",
       "      <td>0.0</td>\n",
       "      <td>NaN</td>\n",
       "      <td>27516.0</td>\n",
       "      <td>NaN</td>\n",
       "      <td>NaN</td>\n",
       "      <td>6037.0</td>\n",
       "    </tr>\n",
       "    <tr>\n",
       "      <th>1</th>\n",
       "      <td>0.0</td>\n",
       "      <td>0.0</td>\n",
       "      <td>NaN</td>\n",
       "      <td>10.0</td>\n",
       "      <td>NaN</td>\n",
       "      <td>NaN</td>\n",
       "      <td>6037.0</td>\n",
       "    </tr>\n",
       "    <tr>\n",
       "      <th>2</th>\n",
       "      <td>0.0</td>\n",
       "      <td>0.0</td>\n",
       "      <td>NaN</td>\n",
       "      <td>10.0</td>\n",
       "      <td>NaN</td>\n",
       "      <td>NaN</td>\n",
       "      <td>6037.0</td>\n",
       "    </tr>\n",
       "    <tr>\n",
       "      <th>3</th>\n",
       "      <td>0.0</td>\n",
       "      <td>0.0</td>\n",
       "      <td>NaN</td>\n",
       "      <td>2108.0</td>\n",
       "      <td>NaN</td>\n",
       "      <td>174.21</td>\n",
       "      <td>6037.0</td>\n",
       "    </tr>\n",
       "    <tr>\n",
       "      <th>5</th>\n",
       "      <td>0.0</td>\n",
       "      <td>0.0</td>\n",
       "      <td>NaN</td>\n",
       "      <td>124.0</td>\n",
       "      <td>NaN</td>\n",
       "      <td>NaN</td>\n",
       "      <td>6037.0</td>\n",
       "    </tr>\n",
       "  </tbody>\n",
       "</table>\n",
       "</div>"
      ],
      "text/plain": [
       "   bedroomcnt  bathroomcnt  calculatedfinishedsquarefeet  taxvaluedollarcnt  \\\n",
       "0         0.0          0.0                           NaN            27516.0   \n",
       "1         0.0          0.0                           NaN               10.0   \n",
       "2         0.0          0.0                           NaN               10.0   \n",
       "3         0.0          0.0                           NaN             2108.0   \n",
       "5         0.0          0.0                           NaN              124.0   \n",
       "\n",
       "   yearbuilt  taxamount    fips  \n",
       "0        NaN        NaN  6037.0  \n",
       "1        NaN        NaN  6037.0  \n",
       "2        NaN        NaN  6037.0  \n",
       "3        NaN     174.21  6037.0  \n",
       "5        NaN        NaN  6037.0  "
      ]
     },
     "execution_count": 37,
     "metadata": {},
     "output_type": "execute_result"
    }
   ],
   "source": [
    "zillow_df[zillow_df['bedroomcnt']== 0].head()"
   ]
  },
  {
   "cell_type": "code",
   "execution_count": 38,
   "metadata": {},
   "outputs": [
    {
     "data": {
      "text/plain": [
       "(2152863, 7)"
      ]
     },
     "execution_count": 38,
     "metadata": {},
     "output_type": "execute_result"
    }
   ],
   "source": [
    "zillow_df.shape"
   ]
  },
  {
   "cell_type": "code",
   "execution_count": 39,
   "metadata": {},
   "outputs": [
    {
     "data": {
      "text/plain": [
       "(2141219, 7)"
      ]
     },
     "execution_count": 39,
     "metadata": {},
     "output_type": "execute_result"
    }
   ],
   "source": [
    "# drop duplicates\n",
    "zillow_df = zillow_df.drop_duplicates()\n",
    "zillow_df.shape"
   ]
  },
  {
   "cell_type": "code",
   "execution_count": 48,
   "metadata": {},
   "outputs": [],
   "source": [
    "#drop nulls\n",
    "zillow_df = zillow_df.dropna(how='any',axis=0)"
   ]
  },
  {
   "cell_type": "code",
   "execution_count": 52,
   "metadata": {},
   "outputs": [
    {
     "data": {
      "text/plain": [
       "(2130214, 7)"
      ]
     },
     "execution_count": 52,
     "metadata": {},
     "output_type": "execute_result"
    }
   ],
   "source": [
    "#size after the drops\n",
    "zillow_df.shape"
   ]
  },
  {
   "cell_type": "code",
   "execution_count": 49,
   "metadata": {
    "scrolled": true
   },
   "outputs": [
    {
     "name": "stdout",
     "output_type": "stream",
     "text": [
      "Your selected dataframe has 7 columns.\n",
      "There are 0 columns that have missing values.\n",
      "** There are 0 duplicate rows that represents 0.0% of total Values**\n"
     ]
    },
    {
     "data": {
      "text/html": [
       "<div>\n",
       "<style scoped>\n",
       "    .dataframe tbody tr th:only-of-type {\n",
       "        vertical-align: middle;\n",
       "    }\n",
       "\n",
       "    .dataframe tbody tr th {\n",
       "        vertical-align: top;\n",
       "    }\n",
       "\n",
       "    .dataframe thead th {\n",
       "        text-align: right;\n",
       "    }\n",
       "</style>\n",
       "<table border=\"1\" class=\"dataframe\">\n",
       "  <thead>\n",
       "    <tr style=\"text-align: right;\">\n",
       "      <th></th>\n",
       "      <th>Missing Values</th>\n",
       "      <th>% of Total Values</th>\n",
       "    </tr>\n",
       "  </thead>\n",
       "  <tbody>\n",
       "  </tbody>\n",
       "</table>\n",
       "</div>"
      ],
      "text/plain": [
       "Empty DataFrame\n",
       "Columns: [Missing Values, % of Total Values]\n",
       "Index: []"
      ]
     },
     "execution_count": 49,
     "metadata": {},
     "output_type": "execute_result"
    }
   ],
   "source": [
    "missing_values_table(zillow_df)"
   ]
  },
  {
   "cell_type": "code",
   "execution_count": 51,
   "metadata": {
    "scrolled": true
   },
   "outputs": [
    {
     "name": "stdout",
     "output_type": "stream",
     "text": [
      "<class 'pandas.core.frame.DataFrame'>\n",
      "Int64Index: 2130214 entries, 4 to 2152862\n",
      "Data columns (total 7 columns):\n",
      " #   Column                        Non-Null Count    Dtype  \n",
      "---  ------                        --------------    -----  \n",
      " 0   bedroomcnt                    2130214 non-null  float64\n",
      " 1   bathroomcnt                   2130214 non-null  float64\n",
      " 2   calculatedfinishedsquarefeet  2130214 non-null  float64\n",
      " 3   taxvaluedollarcnt             2130214 non-null  float64\n",
      " 4   yearbuilt                     2130214 non-null  float64\n",
      " 5   taxamount                     2130214 non-null  float64\n",
      " 6   fips                          2130214 non-null  float64\n",
      "dtypes: float64(7)\n",
      "memory usage: 130.0 MB\n"
     ]
    }
   ],
   "source": [
    "#confirm that we dond have nulls\n",
    "zillow_df.info(null_counts=True)"
   ]
  },
  {
   "cell_type": "code",
   "execution_count": 54,
   "metadata": {
    "scrolled": true
   },
   "outputs": [
    {
     "data": {
      "text/html": [
       "<div>\n",
       "<style scoped>\n",
       "    .dataframe tbody tr th:only-of-type {\n",
       "        vertical-align: middle;\n",
       "    }\n",
       "\n",
       "    .dataframe tbody tr th {\n",
       "        vertical-align: top;\n",
       "    }\n",
       "\n",
       "    .dataframe thead th {\n",
       "        text-align: right;\n",
       "    }\n",
       "</style>\n",
       "<table border=\"1\" class=\"dataframe\">\n",
       "  <thead>\n",
       "    <tr style=\"text-align: right;\">\n",
       "      <th></th>\n",
       "      <th>count</th>\n",
       "      <th>mean</th>\n",
       "      <th>std</th>\n",
       "      <th>min</th>\n",
       "      <th>25%</th>\n",
       "      <th>50%</th>\n",
       "      <th>75%</th>\n",
       "      <th>max</th>\n",
       "    </tr>\n",
       "  </thead>\n",
       "  <tbody>\n",
       "    <tr>\n",
       "      <th>bedroomcnt</th>\n",
       "      <td>2130214.0</td>\n",
       "      <td>3.301635</td>\n",
       "      <td>0.932826</td>\n",
       "      <td>0.00</td>\n",
       "      <td>3.00</td>\n",
       "      <td>3.00</td>\n",
       "      <td>4.00</td>\n",
       "      <td>25.00</td>\n",
       "    </tr>\n",
       "    <tr>\n",
       "      <th>bathroomcnt</th>\n",
       "      <td>2130214.0</td>\n",
       "      <td>2.240947</td>\n",
       "      <td>0.991584</td>\n",
       "      <td>0.00</td>\n",
       "      <td>2.00</td>\n",
       "      <td>2.00</td>\n",
       "      <td>3.00</td>\n",
       "      <td>32.00</td>\n",
       "    </tr>\n",
       "    <tr>\n",
       "      <th>calculatedfinishedsquarefeet</th>\n",
       "      <td>2130214.0</td>\n",
       "      <td>1864.457894</td>\n",
       "      <td>1223.700291</td>\n",
       "      <td>1.00</td>\n",
       "      <td>1258.00</td>\n",
       "      <td>1624.00</td>\n",
       "      <td>2210.00</td>\n",
       "      <td>952576.00</td>\n",
       "    </tr>\n",
       "    <tr>\n",
       "      <th>taxvaluedollarcnt</th>\n",
       "      <td>2130214.0</td>\n",
       "      <td>461250.206241</td>\n",
       "      <td>678402.452862</td>\n",
       "      <td>22.00</td>\n",
       "      <td>189625.25</td>\n",
       "      <td>328425.50</td>\n",
       "      <td>534656.75</td>\n",
       "      <td>90188462.00</td>\n",
       "    </tr>\n",
       "    <tr>\n",
       "      <th>yearbuilt</th>\n",
       "      <td>2130214.0</td>\n",
       "      <td>1960.912632</td>\n",
       "      <td>22.148424</td>\n",
       "      <td>1801.00</td>\n",
       "      <td>1949.00</td>\n",
       "      <td>1958.00</td>\n",
       "      <td>1975.00</td>\n",
       "      <td>2016.00</td>\n",
       "    </tr>\n",
       "    <tr>\n",
       "      <th>taxamount</th>\n",
       "      <td>2130214.0</td>\n",
       "      <td>5624.179572</td>\n",
       "      <td>7828.718383</td>\n",
       "      <td>6.34</td>\n",
       "      <td>2546.94</td>\n",
       "      <td>4112.86</td>\n",
       "      <td>6414.56</td>\n",
       "      <td>1078101.87</td>\n",
       "    </tr>\n",
       "    <tr>\n",
       "      <th>fips</th>\n",
       "      <td>2130214.0</td>\n",
       "      <td>6048.242231</td>\n",
       "      <td>20.297915</td>\n",
       "      <td>6037.00</td>\n",
       "      <td>6037.00</td>\n",
       "      <td>6037.00</td>\n",
       "      <td>6059.00</td>\n",
       "      <td>6111.00</td>\n",
       "    </tr>\n",
       "  </tbody>\n",
       "</table>\n",
       "</div>"
      ],
      "text/plain": [
       "                                  count           mean            std  \\\n",
       "bedroomcnt                    2130214.0       3.301635       0.932826   \n",
       "bathroomcnt                   2130214.0       2.240947       0.991584   \n",
       "calculatedfinishedsquarefeet  2130214.0    1864.457894    1223.700291   \n",
       "taxvaluedollarcnt             2130214.0  461250.206241  678402.452862   \n",
       "yearbuilt                     2130214.0    1960.912632      22.148424   \n",
       "taxamount                     2130214.0    5624.179572    7828.718383   \n",
       "fips                          2130214.0    6048.242231      20.297915   \n",
       "\n",
       "                                  min        25%        50%        75%  \\\n",
       "bedroomcnt                       0.00       3.00       3.00       4.00   \n",
       "bathroomcnt                      0.00       2.00       2.00       3.00   \n",
       "calculatedfinishedsquarefeet     1.00    1258.00    1624.00    2210.00   \n",
       "taxvaluedollarcnt               22.00  189625.25  328425.50  534656.75   \n",
       "yearbuilt                     1801.00    1949.00    1958.00    1975.00   \n",
       "taxamount                        6.34    2546.94    4112.86    6414.56   \n",
       "fips                          6037.00    6037.00    6037.00    6059.00   \n",
       "\n",
       "                                      max  \n",
       "bedroomcnt                          25.00  \n",
       "bathroomcnt                         32.00  \n",
       "calculatedfinishedsquarefeet    952576.00  \n",
       "taxvaluedollarcnt             90188462.00  \n",
       "yearbuilt                         2016.00  \n",
       "taxamount                      1078101.87  \n",
       "fips                              6111.00  "
      ]
     },
     "execution_count": 54,
     "metadata": {},
     "output_type": "execute_result"
    }
   ],
   "source": [
    "zillow_df.describe().T"
   ]
  },
  {
   "cell_type": "markdown",
   "metadata": {},
   "source": [
    "**takeaways**\n",
    "there are houses with ) bedrooms, bathrooms and calculatedfinishedsquarefeet = 1 ??\n"
   ]
  },
  {
   "cell_type": "code",
   "execution_count": 85,
   "metadata": {
    "scrolled": false
   },
   "outputs": [
    {
     "name": "stdout",
     "output_type": "stream",
     "text": [
      "bedroomcnt\n",
      "0.0       4259\n",
      "1.0      22713\n",
      "2.0     333208\n",
      "3.0     958078\n",
      "4.0     630289\n",
      "5.0     150194\n",
      "6.0      25092\n",
      "7.0       4791\n",
      "8.0       1103\n",
      "9.0        290\n",
      "10.0       118\n",
      "11.0        34\n",
      "12.0        12\n",
      "13.0        15\n",
      "14.0         7\n",
      "15.0         5\n",
      "16.0         2\n",
      "18.0         3\n",
      "25.0         1\n",
      "Name: bedroomcnt, dtype: int64\n",
      "bathroomcnt\n",
      "0.00       4199\n",
      "0.50         16\n",
      "1.00     411264\n",
      "1.50      30275\n",
      "1.75          3\n",
      "2.00     938213\n",
      "2.50     141089\n",
      "3.00     421066\n",
      "3.50      28286\n",
      "4.00      81903\n",
      "4.50      19396\n",
      "5.00      28299\n",
      "5.50       6174\n",
      "6.00      10717\n",
      "6.50       1330\n",
      "7.00       4381\n",
      "7.50        382\n",
      "8.00       1681\n",
      "8.50        108\n",
      "9.00        707\n",
      "9.50         50\n",
      "10.00       322\n",
      "10.50        14\n",
      "11.00       145\n",
      "11.50         3\n",
      "12.00        73\n",
      "Name: bathroomcnt, dtype: int64\n",
      "calculatedfinishedsquarefeet\n",
      "1.0      6\n",
      "2.0      2\n",
      "3.0      7\n",
      "7.0      1\n",
      "10.0     2\n",
      "12.0     1\n",
      "20.0    15\n",
      "30.0     3\n",
      "31.0     1\n",
      "32.0     1\n",
      "40.0     9\n",
      "43.0     1\n",
      "48.0     2\n",
      "54.0     1\n",
      "56.0     1\n",
      "60.0     8\n",
      "63.0     1\n",
      "64.0     1\n",
      "65.0     1\n",
      "66.0     1\n",
      "72.0     3\n",
      "76.0     1\n",
      "77.0     1\n",
      "78.0     1\n",
      "80.0     1\n",
      "90.0     1\n",
      "Name: calculatedfinishedsquarefeet, dtype: int64\n",
      "taxvaluedollarcnt\n",
      "22.0      8\n",
      "23.0      6\n",
      "31.0      1\n",
      "46.0      1\n",
      "101.0     1\n",
      "103.0     2\n",
      "104.0     2\n",
      "105.0     1\n",
      "106.0     2\n",
      "107.0     1\n",
      "200.0     1\n",
      "284.0     1\n",
      "340.0     1\n",
      "387.0     1\n",
      "549.0     1\n",
      "568.0     2\n",
      "722.0     1\n",
      "762.0     1\n",
      "834.0     1\n",
      "895.0     1\n",
      "1000.0    1\n",
      "1004.0    1\n",
      "1059.0    1\n",
      "1080.0    1\n",
      "1086.0    1\n",
      "1105.0    1\n",
      "Name: taxvaluedollarcnt, dtype: int64\n",
      "yearbuilt\n",
      "1801.0      3\n",
      "1807.0      1\n",
      "1812.0      2\n",
      "1823.0      1\n",
      "1833.0      1\n",
      "1840.0      1\n",
      "1855.0      1\n",
      "1862.0      1\n",
      "1865.0      2\n",
      "1870.0      3\n",
      "1874.0      1\n",
      "1875.0      9\n",
      "1876.0      2\n",
      "1877.0      1\n",
      "1878.0      2\n",
      "1879.0      1\n",
      "1880.0     39\n",
      "1881.0      4\n",
      "1882.0      6\n",
      "1883.0      8\n",
      "1884.0     13\n",
      "1885.0    169\n",
      "1886.0     33\n",
      "1887.0     77\n",
      "1888.0     86\n",
      "1889.0     30\n",
      "Name: yearbuilt, dtype: int64\n",
      "taxamount\n",
      "6.34     1\n",
      "13.36    1\n",
      "13.44    1\n",
      "13.47    2\n",
      "13.48    1\n",
      "13.49    1\n",
      "13.50    2\n",
      "13.51    1\n",
      "16.48    1\n",
      "18.38    1\n",
      "18.72    1\n",
      "20.24    5\n",
      "21.01    1\n",
      "24.78    2\n",
      "24.92    4\n",
      "24.99    1\n",
      "25.92    1\n",
      "27.01    1\n",
      "28.78    1\n",
      "29.14    1\n",
      "29.63    1\n",
      "32.95    1\n",
      "33.35    1\n",
      "33.77    1\n",
      "34.40    2\n",
      "34.47    2\n",
      "Name: taxamount, dtype: int64\n",
      "fips\n",
      "6037.0    1422505\n",
      "6059.0     546579\n",
      "6111.0     161130\n",
      "Name: fips, dtype: int64\n"
     ]
    }
   ],
   "source": [
    "#let see value counts in each column\n",
    "cols = zillow_df.columns.to_list()\n",
    "for col in cols:\n",
    "    print(col)\n",
    "    print(zillow_df[col].value_counts().sort_index().head(26))"
   ]
  },
  {
   "cell_type": "code",
   "execution_count": 89,
   "metadata": {},
   "outputs": [],
   "source": [
    "#bedrooms, yearbuilt and fips can be converted to int\n",
    "zillow_df[['bedroomcnt', 'yearbuilt', 'fips']] = zillow_df[['bedroomcnt', 'yearbuilt', 'fips']].astype(int)"
   ]
  },
  {
   "cell_type": "code",
   "execution_count": 90,
   "metadata": {
    "scrolled": true
   },
   "outputs": [
    {
     "name": "stdout",
     "output_type": "stream",
     "text": [
      "<class 'pandas.core.frame.DataFrame'>\n",
      "Int64Index: 2130214 entries, 4 to 2152862\n",
      "Data columns (total 7 columns):\n",
      " #   Column                        Dtype  \n",
      "---  ------                        -----  \n",
      " 0   bedroomcnt                    int64  \n",
      " 1   bathroomcnt                   float64\n",
      " 2   calculatedfinishedsquarefeet  float64\n",
      " 3   taxvaluedollarcnt             float64\n",
      " 4   yearbuilt                     int64  \n",
      " 5   taxamount                     float64\n",
      " 6   fips                          int64  \n",
      "dtypes: float64(4), int64(3)\n",
      "memory usage: 130.0 MB\n"
     ]
    }
   ],
   "source": [
    "zillow_df.info()"
   ]
  },
  {
   "cell_type": "code",
   "execution_count": 91,
   "metadata": {
    "scrolled": true
   },
   "outputs": [
    {
     "data": {
      "text/html": [
       "<div>\n",
       "<style scoped>\n",
       "    .dataframe tbody tr th:only-of-type {\n",
       "        vertical-align: middle;\n",
       "    }\n",
       "\n",
       "    .dataframe tbody tr th {\n",
       "        vertical-align: top;\n",
       "    }\n",
       "\n",
       "    .dataframe thead th {\n",
       "        text-align: right;\n",
       "    }\n",
       "</style>\n",
       "<table border=\"1\" class=\"dataframe\">\n",
       "  <thead>\n",
       "    <tr style=\"text-align: right;\">\n",
       "      <th></th>\n",
       "      <th>bedroomcnt</th>\n",
       "      <th>bathroomcnt</th>\n",
       "      <th>calculatedfinishedsquarefeet</th>\n",
       "      <th>taxvaluedollarcnt</th>\n",
       "      <th>yearbuilt</th>\n",
       "      <th>taxamount</th>\n",
       "      <th>fips</th>\n",
       "    </tr>\n",
       "  </thead>\n",
       "  <tbody>\n",
       "    <tr>\n",
       "      <th>58438</th>\n",
       "      <td>2</td>\n",
       "      <td>1.0</td>\n",
       "      <td>1.0</td>\n",
       "      <td>121376.0</td>\n",
       "      <td>1907</td>\n",
       "      <td>1996.35</td>\n",
       "      <td>6037</td>\n",
       "    </tr>\n",
       "    <tr>\n",
       "      <th>122963</th>\n",
       "      <td>2</td>\n",
       "      <td>2.0</td>\n",
       "      <td>3.0</td>\n",
       "      <td>584804.0</td>\n",
       "      <td>1955</td>\n",
       "      <td>6822.61</td>\n",
       "      <td>6037</td>\n",
       "    </tr>\n",
       "    <tr>\n",
       "      <th>402516</th>\n",
       "      <td>1</td>\n",
       "      <td>4.0</td>\n",
       "      <td>3.0</td>\n",
       "      <td>356717.0</td>\n",
       "      <td>1986</td>\n",
       "      <td>3840.63</td>\n",
       "      <td>6037</td>\n",
       "    </tr>\n",
       "    <tr>\n",
       "      <th>584383</th>\n",
       "      <td>5</td>\n",
       "      <td>2.0</td>\n",
       "      <td>3.0</td>\n",
       "      <td>139441.0</td>\n",
       "      <td>1958</td>\n",
       "      <td>1676.86</td>\n",
       "      <td>6037</td>\n",
       "    </tr>\n",
       "    <tr>\n",
       "      <th>587783</th>\n",
       "      <td>4</td>\n",
       "      <td>3.0</td>\n",
       "      <td>2.0</td>\n",
       "      <td>1219502.0</td>\n",
       "      <td>1952</td>\n",
       "      <td>14299.74</td>\n",
       "      <td>6037</td>\n",
       "    </tr>\n",
       "    <tr>\n",
       "      <th>683031</th>\n",
       "      <td>2</td>\n",
       "      <td>3.0</td>\n",
       "      <td>3.0</td>\n",
       "      <td>981300.0</td>\n",
       "      <td>1950</td>\n",
       "      <td>10657.81</td>\n",
       "      <td>6037</td>\n",
       "    </tr>\n",
       "    <tr>\n",
       "      <th>724785</th>\n",
       "      <td>5</td>\n",
       "      <td>7.0</td>\n",
       "      <td>7.0</td>\n",
       "      <td>1653839.0</td>\n",
       "      <td>1925</td>\n",
       "      <td>20140.20</td>\n",
       "      <td>6037</td>\n",
       "    </tr>\n",
       "    <tr>\n",
       "      <th>821592</th>\n",
       "      <td>1</td>\n",
       "      <td>4.0</td>\n",
       "      <td>3.0</td>\n",
       "      <td>1827450.0</td>\n",
       "      <td>1991</td>\n",
       "      <td>22011.62</td>\n",
       "      <td>6037</td>\n",
       "    </tr>\n",
       "    <tr>\n",
       "      <th>1046787</th>\n",
       "      <td>0</td>\n",
       "      <td>0.0</td>\n",
       "      <td>1.0</td>\n",
       "      <td>28091.0</td>\n",
       "      <td>1963</td>\n",
       "      <td>439.55</td>\n",
       "      <td>6037</td>\n",
       "    </tr>\n",
       "    <tr>\n",
       "      <th>1276353</th>\n",
       "      <td>1</td>\n",
       "      <td>3.0</td>\n",
       "      <td>1.0</td>\n",
       "      <td>124906.0</td>\n",
       "      <td>1953</td>\n",
       "      <td>2020.66</td>\n",
       "      <td>6037</td>\n",
       "    </tr>\n",
       "    <tr>\n",
       "      <th>1359288</th>\n",
       "      <td>2</td>\n",
       "      <td>1.0</td>\n",
       "      <td>1.0</td>\n",
       "      <td>147577.0</td>\n",
       "      <td>1991</td>\n",
       "      <td>1855.40</td>\n",
       "      <td>6037</td>\n",
       "    </tr>\n",
       "    <tr>\n",
       "      <th>1428481</th>\n",
       "      <td>3</td>\n",
       "      <td>3.0</td>\n",
       "      <td>3.0</td>\n",
       "      <td>208783.0</td>\n",
       "      <td>1941</td>\n",
       "      <td>3239.09</td>\n",
       "      <td>6037</td>\n",
       "    </tr>\n",
       "    <tr>\n",
       "      <th>1686621</th>\n",
       "      <td>3</td>\n",
       "      <td>2.0</td>\n",
       "      <td>2.0</td>\n",
       "      <td>170416.0</td>\n",
       "      <td>1959</td>\n",
       "      <td>2774.43</td>\n",
       "      <td>6037</td>\n",
       "    </tr>\n",
       "    <tr>\n",
       "      <th>1895866</th>\n",
       "      <td>5</td>\n",
       "      <td>5.0</td>\n",
       "      <td>1.0</td>\n",
       "      <td>563977.0</td>\n",
       "      <td>1997</td>\n",
       "      <td>6808.84</td>\n",
       "      <td>6037</td>\n",
       "    </tr>\n",
       "    <tr>\n",
       "      <th>1963976</th>\n",
       "      <td>3</td>\n",
       "      <td>2.0</td>\n",
       "      <td>3.0</td>\n",
       "      <td>183907.0</td>\n",
       "      <td>1952</td>\n",
       "      <td>2328.31</td>\n",
       "      <td>6037</td>\n",
       "    </tr>\n",
       "    <tr>\n",
       "      <th>2017745</th>\n",
       "      <td>3</td>\n",
       "      <td>1.0</td>\n",
       "      <td>1.0</td>\n",
       "      <td>31800.0</td>\n",
       "      <td>1900</td>\n",
       "      <td>870.36</td>\n",
       "      <td>6037</td>\n",
       "    </tr>\n",
       "  </tbody>\n",
       "</table>\n",
       "</div>"
      ],
      "text/plain": [
       "         bedroomcnt  bathroomcnt  calculatedfinishedsquarefeet  \\\n",
       "58438             2          1.0                           1.0   \n",
       "122963            2          2.0                           3.0   \n",
       "402516            1          4.0                           3.0   \n",
       "584383            5          2.0                           3.0   \n",
       "587783            4          3.0                           2.0   \n",
       "683031            2          3.0                           3.0   \n",
       "724785            5          7.0                           7.0   \n",
       "821592            1          4.0                           3.0   \n",
       "1046787           0          0.0                           1.0   \n",
       "1276353           1          3.0                           1.0   \n",
       "1359288           2          1.0                           1.0   \n",
       "1428481           3          3.0                           3.0   \n",
       "1686621           3          2.0                           2.0   \n",
       "1895866           5          5.0                           1.0   \n",
       "1963976           3          2.0                           3.0   \n",
       "2017745           3          1.0                           1.0   \n",
       "\n",
       "         taxvaluedollarcnt  yearbuilt  taxamount  fips  \n",
       "58438             121376.0       1907    1996.35  6037  \n",
       "122963            584804.0       1955    6822.61  6037  \n",
       "402516            356717.0       1986    3840.63  6037  \n",
       "584383            139441.0       1958    1676.86  6037  \n",
       "587783           1219502.0       1952   14299.74  6037  \n",
       "683031            981300.0       1950   10657.81  6037  \n",
       "724785           1653839.0       1925   20140.20  6037  \n",
       "821592           1827450.0       1991   22011.62  6037  \n",
       "1046787            28091.0       1963     439.55  6037  \n",
       "1276353           124906.0       1953    2020.66  6037  \n",
       "1359288           147577.0       1991    1855.40  6037  \n",
       "1428481           208783.0       1941    3239.09  6037  \n",
       "1686621           170416.0       1959    2774.43  6037  \n",
       "1895866           563977.0       1997    6808.84  6037  \n",
       "1963976           183907.0       1952    2328.31  6037  \n",
       "2017745            31800.0       1900     870.36  6037  "
      ]
     },
     "execution_count": 91,
     "metadata": {},
     "output_type": "execute_result"
    }
   ],
   "source": [
    "zillow_df[zillow_df.calculatedfinishedsquarefeet < 10]"
   ]
  },
  {
   "cell_type": "code",
   "execution_count": null,
   "metadata": {},
   "outputs": [],
   "source": [
    "#this makes no sense. a house with more that one bedroom and has less than 10 squarefeet"
   ]
  },
  {
   "cell_type": "code",
   "execution_count": 97,
   "metadata": {
    "scrolled": true
   },
   "outputs": [
    {
     "data": {
      "text/plain": [
       "bedroomcnt                          19\n",
       "bathroomcnt                         38\n",
       "calculatedfinishedsquarefeet     10557\n",
       "taxvaluedollarcnt               588178\n",
       "yearbuilt                          153\n",
       "taxamount                       915868\n",
       "fips                                 3\n",
       "dtype: int64"
      ]
     },
     "execution_count": 97,
     "metadata": {},
     "output_type": "execute_result"
    }
   ],
   "source": [
    "zillow_df.nunique()"
   ]
  },
  {
   "cell_type": "code",
   "execution_count": 104,
   "metadata": {
    "scrolled": true
   },
   "outputs": [
    {
     "data": {
      "text/plain": [
       "bedroomcnt                      4736\n",
       "bathroomcnt                     4736\n",
       "calculatedfinishedsquarefeet    4736\n",
       "taxvaluedollarcnt               4736\n",
       "yearbuilt                       4736\n",
       "taxamount                       4736\n",
       "fips                            4736\n",
       "dtype: int64"
      ]
     },
     "execution_count": 104,
     "metadata": {},
     "output_type": "execute_result"
    }
   ],
   "source": [
    "zillow_df[zillow_df.calculatedfinishedsquarefeet < 500].count()"
   ]
  },
  {
   "cell_type": "code",
   "execution_count": 107,
   "metadata": {
    "scrolled": true
   },
   "outputs": [
    {
     "data": {
      "text/html": [
       "<div>\n",
       "<style scoped>\n",
       "    .dataframe tbody tr th:only-of-type {\n",
       "        vertical-align: middle;\n",
       "    }\n",
       "\n",
       "    .dataframe tbody tr th {\n",
       "        vertical-align: top;\n",
       "    }\n",
       "\n",
       "    .dataframe thead th {\n",
       "        text-align: right;\n",
       "    }\n",
       "</style>\n",
       "<table border=\"1\" class=\"dataframe\">\n",
       "  <thead>\n",
       "    <tr style=\"text-align: right;\">\n",
       "      <th></th>\n",
       "      <th>bedroomcnt</th>\n",
       "      <th>bathroomcnt</th>\n",
       "      <th>calculatedfinishedsquarefeet</th>\n",
       "      <th>taxvaluedollarcnt</th>\n",
       "      <th>yearbuilt</th>\n",
       "      <th>taxamount</th>\n",
       "      <th>fips</th>\n",
       "    </tr>\n",
       "  </thead>\n",
       "  <tbody>\n",
       "    <tr>\n",
       "      <th>1046787</th>\n",
       "      <td>0</td>\n",
       "      <td>0.0</td>\n",
       "      <td>1.0</td>\n",
       "      <td>28091.0</td>\n",
       "      <td>1963</td>\n",
       "      <td>439.55</td>\n",
       "      <td>6037</td>\n",
       "    </tr>\n",
       "    <tr>\n",
       "      <th>639470</th>\n",
       "      <td>0</td>\n",
       "      <td>0.0</td>\n",
       "      <td>10.0</td>\n",
       "      <td>8033.0</td>\n",
       "      <td>1984</td>\n",
       "      <td>221.25</td>\n",
       "      <td>6037</td>\n",
       "    </tr>\n",
       "    <tr>\n",
       "      <th>1098133</th>\n",
       "      <td>0</td>\n",
       "      <td>0.0</td>\n",
       "      <td>20.0</td>\n",
       "      <td>9043.0</td>\n",
       "      <td>2005</td>\n",
       "      <td>156.43</td>\n",
       "      <td>6037</td>\n",
       "    </tr>\n",
       "    <tr>\n",
       "      <th>2088114</th>\n",
       "      <td>0</td>\n",
       "      <td>0.0</td>\n",
       "      <td>20.0</td>\n",
       "      <td>7246.0</td>\n",
       "      <td>2005</td>\n",
       "      <td>135.02</td>\n",
       "      <td>6037</td>\n",
       "    </tr>\n",
       "    <tr>\n",
       "      <th>193749</th>\n",
       "      <td>0</td>\n",
       "      <td>0.0</td>\n",
       "      <td>20.0</td>\n",
       "      <td>3388.0</td>\n",
       "      <td>2005</td>\n",
       "      <td>89.03</td>\n",
       "      <td>6037</td>\n",
       "    </tr>\n",
       "    <tr>\n",
       "      <th>1894529</th>\n",
       "      <td>0</td>\n",
       "      <td>0.0</td>\n",
       "      <td>20.0</td>\n",
       "      <td>3045.0</td>\n",
       "      <td>2005</td>\n",
       "      <td>84.95</td>\n",
       "      <td>6037</td>\n",
       "    </tr>\n",
       "    <tr>\n",
       "      <th>53614</th>\n",
       "      <td>0</td>\n",
       "      <td>0.0</td>\n",
       "      <td>20.0</td>\n",
       "      <td>1124.0</td>\n",
       "      <td>2005</td>\n",
       "      <td>62.05</td>\n",
       "      <td>6037</td>\n",
       "    </tr>\n",
       "    <tr>\n",
       "      <th>1937466</th>\n",
       "      <td>0</td>\n",
       "      <td>0.0</td>\n",
       "      <td>20.0</td>\n",
       "      <td>1687.0</td>\n",
       "      <td>2005</td>\n",
       "      <td>68.76</td>\n",
       "      <td>6037</td>\n",
       "    </tr>\n",
       "    <tr>\n",
       "      <th>118391</th>\n",
       "      <td>0</td>\n",
       "      <td>0.0</td>\n",
       "      <td>20.0</td>\n",
       "      <td>3454.0</td>\n",
       "      <td>2005</td>\n",
       "      <td>89.82</td>\n",
       "      <td>6037</td>\n",
       "    </tr>\n",
       "    <tr>\n",
       "      <th>1044244</th>\n",
       "      <td>0</td>\n",
       "      <td>0.0</td>\n",
       "      <td>20.0</td>\n",
       "      <td>1105.0</td>\n",
       "      <td>2005</td>\n",
       "      <td>61.82</td>\n",
       "      <td>6037</td>\n",
       "    </tr>\n",
       "    <tr>\n",
       "      <th>118389</th>\n",
       "      <td>0</td>\n",
       "      <td>0.0</td>\n",
       "      <td>20.0</td>\n",
       "      <td>3455.0</td>\n",
       "      <td>2005</td>\n",
       "      <td>89.83</td>\n",
       "      <td>6037</td>\n",
       "    </tr>\n",
       "    <tr>\n",
       "      <th>699883</th>\n",
       "      <td>0</td>\n",
       "      <td>0.0</td>\n",
       "      <td>20.0</td>\n",
       "      <td>4030.0</td>\n",
       "      <td>2005</td>\n",
       "      <td>96.69</td>\n",
       "      <td>6037</td>\n",
       "    </tr>\n",
       "    <tr>\n",
       "      <th>678289</th>\n",
       "      <td>0</td>\n",
       "      <td>0.0</td>\n",
       "      <td>20.0</td>\n",
       "      <td>1722.0</td>\n",
       "      <td>2005</td>\n",
       "      <td>69.18</td>\n",
       "      <td>6037</td>\n",
       "    </tr>\n",
       "    <tr>\n",
       "      <th>527473</th>\n",
       "      <td>0</td>\n",
       "      <td>0.0</td>\n",
       "      <td>20.0</td>\n",
       "      <td>1126.0</td>\n",
       "      <td>2005</td>\n",
       "      <td>62.08</td>\n",
       "      <td>6037</td>\n",
       "    </tr>\n",
       "    <tr>\n",
       "      <th>570504</th>\n",
       "      <td>0</td>\n",
       "      <td>0.0</td>\n",
       "      <td>20.0</td>\n",
       "      <td>22.0</td>\n",
       "      <td>2005</td>\n",
       "      <td>24.92</td>\n",
       "      <td>6037</td>\n",
       "    </tr>\n",
       "    <tr>\n",
       "      <th>818172</th>\n",
       "      <td>0</td>\n",
       "      <td>0.0</td>\n",
       "      <td>20.0</td>\n",
       "      <td>2875.0</td>\n",
       "      <td>2005</td>\n",
       "      <td>82.92</td>\n",
       "      <td>6037</td>\n",
       "    </tr>\n",
       "    <tr>\n",
       "      <th>538237</th>\n",
       "      <td>0</td>\n",
       "      <td>0.0</td>\n",
       "      <td>20.0</td>\n",
       "      <td>2068.0</td>\n",
       "      <td>2005</td>\n",
       "      <td>73.30</td>\n",
       "      <td>6037</td>\n",
       "    </tr>\n",
       "    <tr>\n",
       "      <th>818180</th>\n",
       "      <td>0</td>\n",
       "      <td>0.0</td>\n",
       "      <td>30.0</td>\n",
       "      <td>22.0</td>\n",
       "      <td>2005</td>\n",
       "      <td>24.92</td>\n",
       "      <td>6037</td>\n",
       "    </tr>\n",
       "    <tr>\n",
       "      <th>161541</th>\n",
       "      <td>0</td>\n",
       "      <td>0.0</td>\n",
       "      <td>30.0</td>\n",
       "      <td>5649.0</td>\n",
       "      <td>2005</td>\n",
       "      <td>115.98</td>\n",
       "      <td>6037</td>\n",
       "    </tr>\n",
       "    <tr>\n",
       "      <th>581273</th>\n",
       "      <td>0</td>\n",
       "      <td>0.0</td>\n",
       "      <td>30.0</td>\n",
       "      <td>10000.0</td>\n",
       "      <td>2005</td>\n",
       "      <td>167.84</td>\n",
       "      <td>6037</td>\n",
       "    </tr>\n",
       "    <tr>\n",
       "      <th>2131287</th>\n",
       "      <td>0</td>\n",
       "      <td>0.0</td>\n",
       "      <td>40.0</td>\n",
       "      <td>1059.0</td>\n",
       "      <td>2005</td>\n",
       "      <td>64.00</td>\n",
       "      <td>6037</td>\n",
       "    </tr>\n",
       "    <tr>\n",
       "      <th>150669</th>\n",
       "      <td>0</td>\n",
       "      <td>0.0</td>\n",
       "      <td>40.0</td>\n",
       "      <td>9803.0</td>\n",
       "      <td>2005</td>\n",
       "      <td>165.49</td>\n",
       "      <td>6037</td>\n",
       "    </tr>\n",
       "    <tr>\n",
       "      <th>1467066</th>\n",
       "      <td>0</td>\n",
       "      <td>0.0</td>\n",
       "      <td>40.0</td>\n",
       "      <td>25844.0</td>\n",
       "      <td>1960</td>\n",
       "      <td>345.73</td>\n",
       "      <td>6037</td>\n",
       "    </tr>\n",
       "    <tr>\n",
       "      <th>1894528</th>\n",
       "      <td>0</td>\n",
       "      <td>0.0</td>\n",
       "      <td>40.0</td>\n",
       "      <td>8694.0</td>\n",
       "      <td>2005</td>\n",
       "      <td>152.27</td>\n",
       "      <td>6037</td>\n",
       "    </tr>\n",
       "    <tr>\n",
       "      <th>1291920</th>\n",
       "      <td>0</td>\n",
       "      <td>0.0</td>\n",
       "      <td>40.0</td>\n",
       "      <td>13571.0</td>\n",
       "      <td>2005</td>\n",
       "      <td>210.40</td>\n",
       "      <td>6037</td>\n",
       "    </tr>\n",
       "    <tr>\n",
       "      <th>204469</th>\n",
       "      <td>0</td>\n",
       "      <td>0.0</td>\n",
       "      <td>40.0</td>\n",
       "      <td>11500.0</td>\n",
       "      <td>2005</td>\n",
       "      <td>188.44</td>\n",
       "      <td>6037</td>\n",
       "    </tr>\n",
       "    <tr>\n",
       "      <th>1184128</th>\n",
       "      <td>0</td>\n",
       "      <td>0.0</td>\n",
       "      <td>40.0</td>\n",
       "      <td>11960.0</td>\n",
       "      <td>2005</td>\n",
       "      <td>191.20</td>\n",
       "      <td>6037</td>\n",
       "    </tr>\n",
       "    <tr>\n",
       "      <th>1065821</th>\n",
       "      <td>0</td>\n",
       "      <td>0.0</td>\n",
       "      <td>40.0</td>\n",
       "      <td>9610.0</td>\n",
       "      <td>2005</td>\n",
       "      <td>163.19</td>\n",
       "      <td>6037</td>\n",
       "    </tr>\n",
       "    <tr>\n",
       "      <th>1065832</th>\n",
       "      <td>0</td>\n",
       "      <td>0.0</td>\n",
       "      <td>40.0</td>\n",
       "      <td>9802.0</td>\n",
       "      <td>2005</td>\n",
       "      <td>165.48</td>\n",
       "      <td>6037</td>\n",
       "    </tr>\n",
       "    <tr>\n",
       "      <th>653577</th>\n",
       "      <td>0</td>\n",
       "      <td>0.0</td>\n",
       "      <td>48.0</td>\n",
       "      <td>4914.0</td>\n",
       "      <td>1949</td>\n",
       "      <td>181.46</td>\n",
       "      <td>6037</td>\n",
       "    </tr>\n",
       "    <tr>\n",
       "      <th>1326774</th>\n",
       "      <td>0</td>\n",
       "      <td>0.0</td>\n",
       "      <td>48.0</td>\n",
       "      <td>23.0</td>\n",
       "      <td>1954</td>\n",
       "      <td>97.07</td>\n",
       "      <td>6037</td>\n",
       "    </tr>\n",
       "    <tr>\n",
       "      <th>788355</th>\n",
       "      <td>0</td>\n",
       "      <td>0.0</td>\n",
       "      <td>54.0</td>\n",
       "      <td>7406.0</td>\n",
       "      <td>1960</td>\n",
       "      <td>223.45</td>\n",
       "      <td>6037</td>\n",
       "    </tr>\n",
       "    <tr>\n",
       "      <th>1875726</th>\n",
       "      <td>0</td>\n",
       "      <td>0.0</td>\n",
       "      <td>60.0</td>\n",
       "      <td>4370.0</td>\n",
       "      <td>1958</td>\n",
       "      <td>253.62</td>\n",
       "      <td>6037</td>\n",
       "    </tr>\n",
       "    <tr>\n",
       "      <th>1270401</th>\n",
       "      <td>0</td>\n",
       "      <td>0.0</td>\n",
       "      <td>60.0</td>\n",
       "      <td>10872.0</td>\n",
       "      <td>2005</td>\n",
       "      <td>178.23</td>\n",
       "      <td>6037</td>\n",
       "    </tr>\n",
       "    <tr>\n",
       "      <th>1496630</th>\n",
       "      <td>0</td>\n",
       "      <td>0.0</td>\n",
       "      <td>60.0</td>\n",
       "      <td>5761.0</td>\n",
       "      <td>2005</td>\n",
       "      <td>117.32</td>\n",
       "      <td>6037</td>\n",
       "    </tr>\n",
       "    <tr>\n",
       "      <th>1367268</th>\n",
       "      <td>0</td>\n",
       "      <td>0.0</td>\n",
       "      <td>60.0</td>\n",
       "      <td>12480.0</td>\n",
       "      <td>2005</td>\n",
       "      <td>197.40</td>\n",
       "      <td>6037</td>\n",
       "    </tr>\n",
       "    <tr>\n",
       "      <th>1980481</th>\n",
       "      <td>0</td>\n",
       "      <td>0.0</td>\n",
       "      <td>60.0</td>\n",
       "      <td>5655.0</td>\n",
       "      <td>2005</td>\n",
       "      <td>116.05</td>\n",
       "      <td>6037</td>\n",
       "    </tr>\n",
       "    <tr>\n",
       "      <th>236798</th>\n",
       "      <td>0</td>\n",
       "      <td>0.0</td>\n",
       "      <td>60.0</td>\n",
       "      <td>5763.0</td>\n",
       "      <td>2005</td>\n",
       "      <td>117.34</td>\n",
       "      <td>6037</td>\n",
       "    </tr>\n",
       "    <tr>\n",
       "      <th>1837177</th>\n",
       "      <td>0</td>\n",
       "      <td>0.0</td>\n",
       "      <td>60.0</td>\n",
       "      <td>66075.0</td>\n",
       "      <td>1948</td>\n",
       "      <td>1108.65</td>\n",
       "      <td>6037</td>\n",
       "    </tr>\n",
       "    <tr>\n",
       "      <th>32077</th>\n",
       "      <td>0</td>\n",
       "      <td>0.0</td>\n",
       "      <td>60.0</td>\n",
       "      <td>11534.0</td>\n",
       "      <td>2005</td>\n",
       "      <td>186.12</td>\n",
       "      <td>6037</td>\n",
       "    </tr>\n",
       "    <tr>\n",
       "      <th>233290</th>\n",
       "      <td>0</td>\n",
       "      <td>0.0</td>\n",
       "      <td>63.0</td>\n",
       "      <td>16730.0</td>\n",
       "      <td>1949</td>\n",
       "      <td>558.28</td>\n",
       "      <td>6037</td>\n",
       "    </tr>\n",
       "    <tr>\n",
       "      <th>1231204</th>\n",
       "      <td>0</td>\n",
       "      <td>0.0</td>\n",
       "      <td>64.0</td>\n",
       "      <td>172000.0</td>\n",
       "      <td>1960</td>\n",
       "      <td>2295.08</td>\n",
       "      <td>6037</td>\n",
       "    </tr>\n",
       "    <tr>\n",
       "      <th>539524</th>\n",
       "      <td>0</td>\n",
       "      <td>0.0</td>\n",
       "      <td>65.0</td>\n",
       "      <td>400488.0</td>\n",
       "      <td>1953</td>\n",
       "      <td>4951.53</td>\n",
       "      <td>6037</td>\n",
       "    </tr>\n",
       "    <tr>\n",
       "      <th>1467068</th>\n",
       "      <td>0</td>\n",
       "      <td>0.0</td>\n",
       "      <td>72.0</td>\n",
       "      <td>11973.0</td>\n",
       "      <td>1950</td>\n",
       "      <td>354.04</td>\n",
       "      <td>6037</td>\n",
       "    </tr>\n",
       "    <tr>\n",
       "      <th>1533005</th>\n",
       "      <td>0</td>\n",
       "      <td>0.0</td>\n",
       "      <td>72.0</td>\n",
       "      <td>6106.0</td>\n",
       "      <td>1956</td>\n",
       "      <td>1471.69</td>\n",
       "      <td>6037</td>\n",
       "    </tr>\n",
       "    <tr>\n",
       "      <th>724063</th>\n",
       "      <td>0</td>\n",
       "      <td>0.0</td>\n",
       "      <td>72.0</td>\n",
       "      <td>568.0</td>\n",
       "      <td>1963</td>\n",
       "      <td>112.38</td>\n",
       "      <td>6037</td>\n",
       "    </tr>\n",
       "    <tr>\n",
       "      <th>1276003</th>\n",
       "      <td>0</td>\n",
       "      <td>0.0</td>\n",
       "      <td>76.0</td>\n",
       "      <td>340.0</td>\n",
       "      <td>1974</td>\n",
       "      <td>21.01</td>\n",
       "      <td>6037</td>\n",
       "    </tr>\n",
       "    <tr>\n",
       "      <th>1084053</th>\n",
       "      <td>0</td>\n",
       "      <td>0.0</td>\n",
       "      <td>77.0</td>\n",
       "      <td>1308.0</td>\n",
       "      <td>1939</td>\n",
       "      <td>135.50</td>\n",
       "      <td>6037</td>\n",
       "    </tr>\n",
       "    <tr>\n",
       "      <th>574912</th>\n",
       "      <td>0</td>\n",
       "      <td>0.0</td>\n",
       "      <td>90.0</td>\n",
       "      <td>44441.0</td>\n",
       "      <td>1924</td>\n",
       "      <td>613.76</td>\n",
       "      <td>6037</td>\n",
       "    </tr>\n",
       "    <tr>\n",
       "      <th>229456</th>\n",
       "      <td>0</td>\n",
       "      <td>0.0</td>\n",
       "      <td>96.0</td>\n",
       "      <td>19471.0</td>\n",
       "      <td>1955</td>\n",
       "      <td>693.47</td>\n",
       "      <td>6037</td>\n",
       "    </tr>\n",
       "  </tbody>\n",
       "</table>\n",
       "</div>"
      ],
      "text/plain": [
       "         bedroomcnt  bathroomcnt  calculatedfinishedsquarefeet  \\\n",
       "1046787           0          0.0                           1.0   \n",
       "639470            0          0.0                          10.0   \n",
       "1098133           0          0.0                          20.0   \n",
       "2088114           0          0.0                          20.0   \n",
       "193749            0          0.0                          20.0   \n",
       "1894529           0          0.0                          20.0   \n",
       "53614             0          0.0                          20.0   \n",
       "1937466           0          0.0                          20.0   \n",
       "118391            0          0.0                          20.0   \n",
       "1044244           0          0.0                          20.0   \n",
       "118389            0          0.0                          20.0   \n",
       "699883            0          0.0                          20.0   \n",
       "678289            0          0.0                          20.0   \n",
       "527473            0          0.0                          20.0   \n",
       "570504            0          0.0                          20.0   \n",
       "818172            0          0.0                          20.0   \n",
       "538237            0          0.0                          20.0   \n",
       "818180            0          0.0                          30.0   \n",
       "161541            0          0.0                          30.0   \n",
       "581273            0          0.0                          30.0   \n",
       "2131287           0          0.0                          40.0   \n",
       "150669            0          0.0                          40.0   \n",
       "1467066           0          0.0                          40.0   \n",
       "1894528           0          0.0                          40.0   \n",
       "1291920           0          0.0                          40.0   \n",
       "204469            0          0.0                          40.0   \n",
       "1184128           0          0.0                          40.0   \n",
       "1065821           0          0.0                          40.0   \n",
       "1065832           0          0.0                          40.0   \n",
       "653577            0          0.0                          48.0   \n",
       "1326774           0          0.0                          48.0   \n",
       "788355            0          0.0                          54.0   \n",
       "1875726           0          0.0                          60.0   \n",
       "1270401           0          0.0                          60.0   \n",
       "1496630           0          0.0                          60.0   \n",
       "1367268           0          0.0                          60.0   \n",
       "1980481           0          0.0                          60.0   \n",
       "236798            0          0.0                          60.0   \n",
       "1837177           0          0.0                          60.0   \n",
       "32077             0          0.0                          60.0   \n",
       "233290            0          0.0                          63.0   \n",
       "1231204           0          0.0                          64.0   \n",
       "539524            0          0.0                          65.0   \n",
       "1467068           0          0.0                          72.0   \n",
       "1533005           0          0.0                          72.0   \n",
       "724063            0          0.0                          72.0   \n",
       "1276003           0          0.0                          76.0   \n",
       "1084053           0          0.0                          77.0   \n",
       "574912            0          0.0                          90.0   \n",
       "229456            0          0.0                          96.0   \n",
       "\n",
       "         taxvaluedollarcnt  yearbuilt  taxamount  fips  \n",
       "1046787            28091.0       1963     439.55  6037  \n",
       "639470              8033.0       1984     221.25  6037  \n",
       "1098133             9043.0       2005     156.43  6037  \n",
       "2088114             7246.0       2005     135.02  6037  \n",
       "193749              3388.0       2005      89.03  6037  \n",
       "1894529             3045.0       2005      84.95  6037  \n",
       "53614               1124.0       2005      62.05  6037  \n",
       "1937466             1687.0       2005      68.76  6037  \n",
       "118391              3454.0       2005      89.82  6037  \n",
       "1044244             1105.0       2005      61.82  6037  \n",
       "118389              3455.0       2005      89.83  6037  \n",
       "699883              4030.0       2005      96.69  6037  \n",
       "678289              1722.0       2005      69.18  6037  \n",
       "527473              1126.0       2005      62.08  6037  \n",
       "570504                22.0       2005      24.92  6037  \n",
       "818172              2875.0       2005      82.92  6037  \n",
       "538237              2068.0       2005      73.30  6037  \n",
       "818180                22.0       2005      24.92  6037  \n",
       "161541              5649.0       2005     115.98  6037  \n",
       "581273             10000.0       2005     167.84  6037  \n",
       "2131287             1059.0       2005      64.00  6037  \n",
       "150669              9803.0       2005     165.49  6037  \n",
       "1467066            25844.0       1960     345.73  6037  \n",
       "1894528             8694.0       2005     152.27  6037  \n",
       "1291920            13571.0       2005     210.40  6037  \n",
       "204469             11500.0       2005     188.44  6037  \n",
       "1184128            11960.0       2005     191.20  6037  \n",
       "1065821             9610.0       2005     163.19  6037  \n",
       "1065832             9802.0       2005     165.48  6037  \n",
       "653577              4914.0       1949     181.46  6037  \n",
       "1326774               23.0       1954      97.07  6037  \n",
       "788355              7406.0       1960     223.45  6037  \n",
       "1875726             4370.0       1958     253.62  6037  \n",
       "1270401            10872.0       2005     178.23  6037  \n",
       "1496630             5761.0       2005     117.32  6037  \n",
       "1367268            12480.0       2005     197.40  6037  \n",
       "1980481             5655.0       2005     116.05  6037  \n",
       "236798              5763.0       2005     117.34  6037  \n",
       "1837177            66075.0       1948    1108.65  6037  \n",
       "32077              11534.0       2005     186.12  6037  \n",
       "233290             16730.0       1949     558.28  6037  \n",
       "1231204           172000.0       1960    2295.08  6037  \n",
       "539524            400488.0       1953    4951.53  6037  \n",
       "1467068            11973.0       1950     354.04  6037  \n",
       "1533005             6106.0       1956    1471.69  6037  \n",
       "724063               568.0       1963     112.38  6037  \n",
       "1276003              340.0       1974      21.01  6037  \n",
       "1084053             1308.0       1939     135.50  6037  \n",
       "574912             44441.0       1924     613.76  6037  \n",
       "229456             19471.0       1955     693.47  6037  "
      ]
     },
     "execution_count": 107,
     "metadata": {},
     "output_type": "execute_result"
    }
   ],
   "source": [
    "zillow_df[(zillow_df.bedroomcnt == 0) & (zillow_df.bathroomcnt == 0)].sort_values('calculatedfinishedsquarefeet').head(50)"
   ]
  },
  {
   "cell_type": "markdown",
   "metadata": {},
   "source": [
    "**takeaways**\n",
    "- dropped duplicated rows\n",
    "- droped rows that have nulls\n",
    "- there are houses with 0 bedrooms, bathrooms and calculatedfinishedsquarefeet = 1,2, ??\n",
    "\n"
   ]
  },
  {
   "cell_type": "markdown",
   "metadata": {},
   "source": [
    "3. Store all of the necessary functions to automate your process from acquiring the data to returning a cleaned dataframe witn no missing values in your wrangle.py file. Name your final function wrangle_zillow."
   ]
  }
 ],
 "metadata": {
  "kernelspec": {
   "display_name": "Python 3",
   "language": "python",
   "name": "python3"
  },
  "language_info": {
   "codemirror_mode": {
    "name": "ipython",
    "version": 3
   },
   "file_extension": ".py",
   "mimetype": "text/x-python",
   "name": "python",
   "nbconvert_exporter": "python",
   "pygments_lexer": "ipython3",
   "version": "3.8.5"
  }
 },
 "nbformat": 4,
 "nbformat_minor": 4
}
