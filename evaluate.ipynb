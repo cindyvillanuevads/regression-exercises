{
 "cells": [
  {
   "cell_type": "code",
   "execution_count": 1,
   "metadata": {},
   "outputs": [],
   "source": [
    "\n",
    "import pandas as pd\n",
    "import numpy as np\n",
    "import matplotlib.pyplot as plt\n",
    "import seaborn as sns\n",
    "from pydataset import data\n",
    "from sklearn.linear_model import LinearRegression\n",
    "from sklearn.metrics import r2_score, mean_squared_error, explained_variance_score\n",
    "from math import sqrt\n",
    "import evaluate\n",
    "from IPython.display import display, HTML"
   ]
  },
  {
   "cell_type": "markdown",
   "metadata": {},
   "source": [
    "Punchline: is our model better than the model that just predicts the average?\n",
    "\n",
    "The best model we can make with no additional information: $\\hat{y} = \\bar{y}$\n",
    "\n",
    "**Baseline comes from train split!**"
   ]
  },
  {
   "cell_type": "markdown",
   "metadata": {},
   "source": [
    "- rmse: how far off the typical prediction is; same units as the target; smaller is better\n",
    "- R2: variance in y explained by X; closer to 1 is better"
   ]
  },
  {
   "cell_type": "markdown",
   "metadata": {},
   "source": [
    "# Exercises"
   ]
  },
  {
   "cell_type": "markdown",
   "metadata": {},
   "source": [
    "**1. Load the tips dataset from either pydataset or seaborn.**"
   ]
  },
  {
   "cell_type": "code",
   "execution_count": null,
   "metadata": {},
   "outputs": [],
   "source": [
    "df= data('tips')"
   ]
  },
  {
   "cell_type": "code",
   "execution_count": null,
   "metadata": {
    "scrolled": true
   },
   "outputs": [],
   "source": [
    "df.head()"
   ]
  },
  {
   "cell_type": "code",
   "execution_count": null,
   "metadata": {
    "scrolled": true
   },
   "outputs": [],
   "source": [
    "df.describe().T"
   ]
  },
  {
   "cell_type": "markdown",
   "metadata": {},
   "source": [
    "**2. Fit a linear regression model (ordinary least squares) and compute yhat, predictions of tip using total_bill.**\n",
    "\n",
    "Here is some sample code to get you started:"
   ]
  },
  {
   "cell_type": "code",
   "execution_count": null,
   "metadata": {},
   "outputs": [],
   "source": [
    "# from sklearn.linear_model import LinearRegression\n",
    "\n",
    "\n",
    "# #assuming X and y are already defined\n",
    "# model = LinearRegression().fit(X, y)\n",
    "# predictions = model.predict(X)"
   ]
  },
  {
   "cell_type": "markdown",
   "metadata": {},
   "source": [
    "Modify and add to the code above as necessary for it to work with the tips dataset."
   ]
  },
  {
   "cell_type": "code",
   "execution_count": null,
   "metadata": {},
   "outputs": [],
   "source": [
    "#baseline\n",
    "df['yhat_baseline'] = df['tip'].mean()"
   ]
  },
  {
   "cell_type": "code",
   "execution_count": null,
   "metadata": {},
   "outputs": [],
   "source": [
    "#asigne values to my X and y\n",
    "X = df[['total_bill']]\n",
    "y = df['tip']"
   ]
  },
  {
   "cell_type": "code",
   "execution_count": null,
   "metadata": {},
   "outputs": [],
   "source": [
    "#create a model\n",
    "model = LinearRegression().fit(X, y)\n",
    "#model = LinearRegression().fit(df[['total_bill']], df['tip'])"
   ]
  },
  {
   "cell_type": "code",
   "execution_count": null,
   "metadata": {},
   "outputs": [],
   "source": [
    "# compute predictions and add to original dataframe\n",
    "df['yhat']= model.predict(X)"
   ]
  },
  {
   "cell_type": "code",
   "execution_count": null,
   "metadata": {},
   "outputs": [],
   "source": [
    "df.head()"
   ]
  },
  {
   "cell_type": "markdown",
   "metadata": {},
   "source": [
    "**3. Plot the residuals for the linear regression model that you made.**"
   ]
  },
  {
   "cell_type": "code",
   "execution_count": null,
   "metadata": {},
   "outputs": [],
   "source": [
    "# compute residuals\n",
    "#df['residual'] = df['yhat'] - df['y']\n",
    "# y = df['tip']\n",
    "\n",
    "df['residuals'] = df['yhat'] - df['tip']\n",
    "df['residuals_baseline'] = df ['yhat_baseline'] - df['tip']\n"
   ]
  },
  {
   "cell_type": "code",
   "execution_count": null,
   "metadata": {
    "scrolled": true
   },
   "outputs": [],
   "source": [
    "df.head()"
   ]
  },
  {
   "cell_type": "code",
   "execution_count": null,
   "metadata": {
    "scrolled": true
   },
   "outputs": [],
   "source": [
    "df.residuals.plot.hist()\n",
    "plt.show()"
   ]
  },
  {
   "cell_type": "code",
   "execution_count": null,
   "metadata": {
    "scrolled": true
   },
   "outputs": [],
   "source": [
    "df.residuals_baseline.plot.hist()\n",
    "plt.show()"
   ]
  },
  {
   "cell_type": "code",
   "execution_count": null,
   "metadata": {
    "scrolled": true
   },
   "outputs": [],
   "source": [
    "fig, ax = plt.subplots(figsize=(13, 7))\n",
    "\n",
    "ax.hist(df.residuals_baseline, label='baseline residuals', alpha=.6)\n",
    "ax.hist(df.residuals, label='model residuals', alpha=.6)\n",
    "ax.legend()\n",
    "plt.show()"
   ]
  },
  {
   "cell_type": "code",
   "execution_count": null,
   "metadata": {
    "scrolled": true
   },
   "outputs": [],
   "source": [
    "fig, ax = plt.subplots(figsize=(10, 7))\n",
    "\n",
    "ax.scatter(df.tip, df.residuals)\n",
    "ax.set(ylabel='residual', xlabel='actual')\n",
    "ax.hlines(0, *ax.get_xlim(), ls=':', color='gray')\n",
    "plt.show()"
   ]
  },
  {
   "cell_type": "code",
   "execution_count": null,
   "metadata": {},
   "outputs": [],
   "source": [
    "fig, ax = plt.subplots(figsize=(13, 7))\n",
    "\n",
    "ax.scatter(df.tip, df.residuals_baseline)\n",
    "ax.set(ylabel='residuals_baseline', xlabel='actual')\n",
    "ax.hlines(0, *ax.get_xlim(), ls=':', color='gray')\n",
    "ax.grid()"
   ]
  },
  {
   "cell_type": "markdown",
   "metadata": {},
   "source": [
    "**4. Calculate the sum of squared errors, explained sum of squares, total sum of squares, mean squared error, and root mean squared error for your model.**"
   ]
  },
  {
   "cell_type": "markdown",
   "metadata": {},
   "source": [
    "- **sum of squared errors** (SSE, a.k.a RSS, Residual Sum of Squares) \n",
    "\n",
    "Sometime the SSE will be used as the final metric to evaluate. Most times, however, this is used as a stepping stone to the other metrics, such as MSE and RMSE. **If outliers matter, this is a good metric to use.**"
   ]
  },
  {
   "cell_type": "code",
   "execution_count": null,
   "metadata": {
    "scrolled": true
   },
   "outputs": [],
   "source": [
    "#calculate manually \n",
    "# square each residual value\n",
    "df['residual^2'] = df.residuals ** 2\n",
    "\n",
    "df['residuals_baseline^2'] = df.residuals_baseline ** 2\n",
    "\n",
    "df.head(3)"
   ]
  },
  {
   "cell_type": "code",
   "execution_count": null,
   "metadata": {
    "scrolled": true
   },
   "outputs": [],
   "source": [
    "# SSE\n",
    "SSE = sum(df['residual^2'])\n",
    "SSE_baseline = sum(df['residuals_baseline^2'])\n",
    "\n",
    "print(\"SSE = \", SSE)\n",
    "print(\"SSE  baseline = \", SSE_baseline)"
   ]
  },
  {
   "cell_type": "code",
   "execution_count": null,
   "metadata": {},
   "outputs": [],
   "source": [
    "#now calculate SSE using sklearn\n",
    "SSE2 = mean_squared_error(df.tip, df.yhat)*len(df)\n",
    "SSE2_baseline = mean_squared_error(df.tip, df.yhat_baseline)*len(df)\n",
    "print(\"SSE2 = \", SSE2)\n",
    "print(\"SSE2  baseline = \", SSE2_baseline) "
   ]
  },
  {
   "cell_type": "markdown",
   "metadata": {},
   "source": [
    "- **Total Sum of Squares** (TSS) is the sum of difference between the actual final grade and the mean of all final grades. It can also be derived by summing the ESS and SSE."
   ]
  },
  {
   "cell_type": "code",
   "execution_count": null,
   "metadata": {},
   "outputs": [],
   "source": [
    "ess = ((df.yhat - df.tip.mean())**2).sum()\n",
    "tss = ((df.tip - df.tip.mean())**2).sum()\n",
    "\n",
    "ess / tss"
   ]
  },
  {
   "cell_type": "code",
   "execution_count": null,
   "metadata": {
    "scrolled": true
   },
   "outputs": [],
   "source": [
    "print(\"SSE manual == SSE sklearn: \", round (SSE,2) == round(SSE2,2)) \n",
    "print(\"SSE manual - baseline == SSE sklearn - baseline: \", round(SSE_baseline,2) == round (SSE2_baseline,2))"
   ]
  },
  {
   "cell_type": "markdown",
   "metadata": {},
   "source": [
    "- **mean squared error** (MSE)\n",
    "\n",
    "We arrive at this by dividing your SSE by the total number of data points, i.e. the average of your errors that have each been squared. **If outliers don't matter as much, but cost exponential instead of linear, then this is a good metric to use**. That means that a residual of 10 (the expected value is 10 units off the actual value) is greater than twice a residual of 5"
   ]
  },
  {
   "cell_type": "code",
   "execution_count": null,
   "metadata": {},
   "outputs": [],
   "source": []
  },
  {
   "cell_type": "code",
   "execution_count": null,
   "metadata": {},
   "outputs": [],
   "source": [
    "#calculate manually \n",
    "MSE = SSE/len(df)\n",
    "MSE_baseline = SSE_baseline/len(df)\n",
    "\n",
    "print(\"MSE = \", MSE)\n",
    "print(\"MSE baseline = \", MSE_baseline)"
   ]
  },
  {
   "cell_type": "code",
   "execution_count": null,
   "metadata": {},
   "outputs": [],
   "source": [
    "# use sklearn\n",
    "MSE2 = mean_squared_error(df.tip, df.yhat)\n",
    "\n",
    "MSE2_baseline = mean_squared_error(df.tip, df.yhat_baseline)\n",
    "print(\"MSE = \", MSE2)\n",
    "print(\"MSE baseline = \", MSE_baseline)"
   ]
  },
  {
   "cell_type": "code",
   "execution_count": null,
   "metadata": {},
   "outputs": [],
   "source": [
    "print(\"MSE manual == MSE sklearn: \", round(MSE,3) == round( MSE2,3)) \n",
    "print(\"MSE manual  baseline == MSE sklearn baseline: \", round(MSE_baseline,3) == round(MSE2_baseline,3)) "
   ]
  },
  {
   "cell_type": "markdown",
   "metadata": {},
   "source": [
    "- **root mean squared error** (RMSE)\n",
    "\n",
    "we can use the MSE to compute the Root Mean Squared Error, RMSE"
   ]
  },
  {
   "cell_type": "code",
   "execution_count": null,
   "metadata": {},
   "outputs": [],
   "source": []
  },
  {
   "cell_type": "code",
   "execution_count": null,
   "metadata": {},
   "outputs": [],
   "source": [
    "\n",
    "RMSE = sqrt(MSE)\n",
    "RMSE_baseline = sqrt(MSE_baseline)\n",
    "\n",
    "print(\"RMSE = \", RMSE)\n",
    "print(\"RMSE baseline = \", RMSE_baseline)"
   ]
  },
  {
   "cell_type": "markdown",
   "metadata": {},
   "source": [
    "We can see that the model is off by an average of 1.017  points, while the baseline is off by an average of 1.38  points. The model does better than having no model at all."
   ]
  },
  {
   "cell_type": "markdown",
   "metadata": {},
   "source": [
    "**5. Calculate the sum of squared errors, mean squared error, and root mean squared error for the baseline model (i.e. a model that always predicts the average tip amount).**"
   ]
  },
  {
   "cell_type": "markdown",
   "metadata": {},
   "source": [
    "- sum of squared errors"
   ]
  },
  {
   "cell_type": "code",
   "execution_count": null,
   "metadata": {},
   "outputs": [],
   "source": [
    "df['residuals_baseline^2'] = df.residuals_baseline ** 2\n",
    "SSE_baseline = sum(df['residuals_baseline^2'])\n",
    "\n",
    "print(\"SSE  baseline = \", SSE_baseline)"
   ]
  },
  {
   "cell_type": "markdown",
   "metadata": {},
   "source": [
    "- Total Sum of Squares (TSS)"
   ]
  },
  {
   "cell_type": "code",
   "execution_count": null,
   "metadata": {},
   "outputs": [],
   "source": [
    "ess_b = ((df.yhat_baseline - df.tip.mean())**2).sum()\n",
    "tss_b = ((df.tip - df.tip.mean())**2).sum()\n",
    "\n",
    "\n",
    "ess_b / tss_b"
   ]
  },
  {
   "cell_type": "markdown",
   "metadata": {},
   "source": [
    "- root mean squared error"
   ]
  },
  {
   "cell_type": "code",
   "execution_count": null,
   "metadata": {},
   "outputs": [],
   "source": [
    "RMSE_baseline = sqrt(MSE_baseline)\n",
    "\n",
    "print(\"RMSE baseline = \", RMSE_baseline)"
   ]
  },
  {
   "cell_type": "markdown",
   "metadata": {},
   "source": [
    "**6. Write python code that compares the sum of squared errors for your model against the sum of squared errors for the baseline model and outputs whether or not your model performs better than the baseline model.**"
   ]
  },
  {
   "cell_type": "code",
   "execution_count": null,
   "metadata": {},
   "outputs": [],
   "source": [
    "if SSE < SSE_baseline :\n",
    "    print (\" Your model perfomed better that baseline\")\n",
    "else: \n",
    "    print (\"your model performed bellow the baseline\")"
   ]
  },
  {
   "cell_type": "markdown",
   "metadata": {},
   "source": [
    "**7. What is the amount of variance explained in your model?**"
   ]
  },
  {
   "cell_type": "markdown",
   "metadata": {},
   "source": [
    "**R2: variance in tip explained by total_bill; closer to 1 is better**"
   ]
  },
  {
   "cell_type": "code",
   "execution_count": null,
   "metadata": {},
   "outputs": [],
   "source": [
    "r2_score(df.tip, df.yhat)"
   ]
  },
  {
   "cell_type": "code",
   "execution_count": null,
   "metadata": {},
   "outputs": [],
   "source": [
    "explained_variance_score(df.tip, df.yhat)"
   ]
  },
  {
   "cell_type": "markdown",
   "metadata": {},
   "source": [
    "**8. Is your model better than the baseline model?**"
   ]
  },
  {
   "cell_type": "markdown",
   "metadata": {},
   "source": [
    "**9. Create a file named evaluate.py that contains the following functions.**\n",
    "\n",
    "- plot_residuals(y, yhat): creates a residual plot\n",
    "- regression_errors(y, yhat): returns the following values:\n",
    "    - sum of squared errors (SSE)\n",
    "    - explained sum of squares (ESS)\n",
    "    - total sum of squares (TSS)\n",
    "    - mean squared error (MSE)\n",
    "    - root mean squared error (RMSE)\n",
    "- baseline_mean_errors(y): computes the SSE, MSE, and RMSE for the baseline model\n",
    "- better_than_baseline(y, yhat): returns true if your model performs better than the baseline, otherwise false"
   ]
  },
  {
   "cell_type": "markdown",
   "metadata": {},
   "source": [
    "**- plot_residuals(y, yhat): creates a residual plot**"
   ]
  },
  {
   "cell_type": "code",
   "execution_count": null,
   "metadata": {},
   "outputs": [],
   "source": [
    "def plot_residuals ( df, y, yhat ):\n",
    "    '''\n",
    "    Takes in a dataframe , y = column with actual_values and yhat= name of the columns with predicted_values\n",
    "    and creates a residual plot\n",
    "    \n",
    "    Example:\n",
    "    plot_residuals(df, 'tip', 'yhat')\n",
    "    '''\n",
    "\n",
    "\n",
    "    \n",
    "    #baseline\n",
    "    df['yhat_baseline'] = df[y].mean()\n",
    "\n",
    "\n",
    "    # residuals\n",
    "    df['residuals'] = df[yhat] - df[y]\n",
    "    df['residuals_baseline'] = df ['yhat_baseline'] - df[y]\n",
    "\n",
    "    # plot\n",
    "    fig, ax = plt.subplots(figsize=(13, 7))\n",
    "    ax.hist(df.residuals_baseline, label='baseline residuals', alpha=.6)\n",
    "    ax.hist(df.residuals, label='model residuals', alpha=.6)\n",
    "    ax.legend()\n",
    "    plt.show()\n",
    "    return"
   ]
  },
  {
   "cell_type": "code",
   "execution_count": null,
   "metadata": {
    "scrolled": true
   },
   "outputs": [],
   "source": [
    "plot_residuals(df, 'tip', 'yhat')"
   ]
  },
  {
   "cell_type": "code",
   "execution_count": 12,
   "metadata": {},
   "outputs": [],
   "source": [
    "\n",
    "def plot_residuals2(actual, predicted):\n",
    "    residuals = actual - predicted\n",
    "    plt.hlines(0, actual.min(), actual.max(), ls=':')\n",
    "    plt.scatter(actual, residuals)\n",
    "    plt.ylabel('residual ($y - \\hat{y}$)')\n",
    "    plt.xlabel('actual value ($y$)')\n",
    "    plt.title('Actual vs Residual')\n",
    "    return plt.gca()"
   ]
  },
  {
   "cell_type": "code",
   "execution_count": null,
   "metadata": {
    "scrolled": true
   },
   "outputs": [],
   "source": [
    "plot_residuals2( df['tip'], df['yhat'])"
   ]
  },
  {
   "cell_type": "code",
   "execution_count": null,
   "metadata": {},
   "outputs": [],
   "source": []
  },
  {
   "cell_type": "markdown",
   "metadata": {},
   "source": [
    "- regression_errors(y, yhat): returns the following values:\n",
    "    - sum of squared errors (SSE)\n",
    "    - explained sum of squares (ESS)\n",
    "    - total sum of squares (TSS)\n",
    "    - mean squared error (MSE)\n",
    "    - root mean squared error (RMSE)"
   ]
  },
  {
   "cell_type": "code",
   "execution_count": null,
   "metadata": {
    "scrolled": true
   },
   "outputs": [],
   "source": [
    "def regression_errors(df, y, yhat):\n",
    "    '''\n",
    "    Takes in a dataframe , y = column with actual_values and yhat= name of the columns with predicted_values\n",
    "    and calculate:\n",
    "    sum of squared errors (SSE)\n",
    "    explained sum of squares (ESS)\n",
    "    total sum of squares (TSS)\n",
    "    mean squared error (MSE)\n",
    "    root mean squared error (RMSE)\n",
    "    \n",
    "    Example:\n",
    "    plot_residuals(df, 'tip', 'yhat')\n",
    "    '''\n",
    "    #import\n",
    "    from sklearn.metrics import  mean_squared_error\n",
    "    from math import sqrt\n",
    "    \n",
    "    \n",
    "    #calculate SSE using sklearn\n",
    "    SSE = mean_squared_error(df[y], df[yhat])*len(df)\n",
    "    #explained sum of squares (ESS)\n",
    "    ESS = ((df[yhat] - df[y].mean())**2).sum()\n",
    "    #total sum of squares (TSS)\n",
    "    TSS = ((df[y] - df[y].mean())**2).sum()\n",
    "    #mean squared error (MSE)\n",
    "    MSE = mean_squared_error(df[y], df[yhat])\n",
    "    #root mean squared error (RMSE)\n",
    "    RMSE = sqrt(MSE)\n",
    "    \n",
    "    #create a dictionary\n",
    "    m= {\n",
    "        'sse': SSE,\n",
    "        'ess': ESS,\n",
    "        'rmse': RMSE,\n",
    "        'tss': TSS,\n",
    "        'mse': MSE,\n",
    "        'r2': ESS/TSS,\n",
    "    }\n",
    "\n",
    "    return m"
   ]
  },
  {
   "cell_type": "code",
   "execution_count": null,
   "metadata": {},
   "outputs": [],
   "source": [
    "m = defregression_errors (df, 'tip', 'yhat')"
   ]
  },
  {
   "cell_type": "code",
   "execution_count": null,
   "metadata": {},
   "outputs": [],
   "source": [
    "m"
   ]
  },
  {
   "cell_type": "code",
   "execution_count": null,
   "metadata": {},
   "outputs": [],
   "source": [
    "df1 = pd.DataFrame(m, index= ['model'])"
   ]
  },
  {
   "cell_type": "markdown",
   "metadata": {},
   "source": [
    "**- baseline_mean_errors(y): computes the SSE, MSE, and RMSE for the baseline model**"
   ]
  },
  {
   "cell_type": "code",
   "execution_count": null,
   "metadata": {},
   "outputs": [],
   "source": [
    "def baseline_mean_errors(df, y):\n",
    "    '''\n",
    "    Takes in a dataframe , y = column with actual_values \n",
    "    and calculate:\n",
    "    sum of squared errors (SSE)\n",
    "    explained sum of squares (ESS)\n",
    "    total sum of squares (TSS)\n",
    "    mean squared error (MSE)\n",
    "    root mean squared error (RMSE)\n",
    "\n",
    "    Example:\n",
    "    plot_residuals(df, 'tip')\n",
    "    '''\n",
    "    #import\n",
    "    from sklearn.metrics import  mean_squared_error\n",
    "    from math import sqrt\n",
    "\n",
    "    #baseline\n",
    "    df['yhat_baseline'] = df[y].mean()\n",
    "\n",
    "    #calculate SSE using sklearn\n",
    "    SSE_baseline = mean_squared_error(df[y], df['yhat_baseline'])*len(df)\n",
    "    #explained sum of squares (ESS)\n",
    "    ESS_b = ((df.yhat_baseline - df[y].mean())**2).sum()\n",
    "    #total sum of squares (TSS)\n",
    "    TSS_b = ((df[y] - df[y].mean())**2).sum()\n",
    "    #mean squared error (MSE)\n",
    "    MSE_baseline = mean_squared_error(df[y], df.yhat_baseline)\n",
    "    #root mean squared error (RMSE)\n",
    "    RMSE_baseline = sqrt(MSE_baseline)\n",
    "    \n",
    "    #create dicc\n",
    "    b ={\n",
    "        'sse': SSE_baseline,\n",
    "        'mse': MSE_baseline,\n",
    "        'rmse': RMSE_baseline,\n",
    "         'tss': TSS_b,\n",
    "        'ess' : ESS_b,\n",
    "        'mse': MSE_baseline,\n",
    "        'r2': ESS_b/TSS_b,       \n",
    "    }\n",
    "\n",
    "    return b"
   ]
  },
  {
   "cell_type": "code",
   "execution_count": null,
   "metadata": {},
   "outputs": [],
   "source": []
  },
  {
   "cell_type": "code",
   "execution_count": null,
   "metadata": {},
   "outputs": [],
   "source": []
  },
  {
   "cell_type": "code",
   "execution_count": null,
   "metadata": {
    "scrolled": false
   },
   "outputs": [],
   "source": [
    "r = baseline_mean_errors(df,'tip')"
   ]
  },
  {
   "cell_type": "code",
   "execution_count": null,
   "metadata": {
    "scrolled": true
   },
   "outputs": [],
   "source": [
    "r"
   ]
  },
  {
   "cell_type": "code",
   "execution_count": null,
   "metadata": {},
   "outputs": [],
   "source": [
    "df2 =pd.DataFrame(r, index= ['baseline'])"
   ]
  },
  {
   "cell_type": "code",
   "execution_count": null,
   "metadata": {},
   "outputs": [],
   "source": [
    "table = pd.concat([df2, df1]).T\n",
    "table"
   ]
  },
  {
   "cell_type": "code",
   "execution_count": null,
   "metadata": {},
   "outputs": [],
   "source": [
    "table.style()"
   ]
  },
  {
   "cell_type": "markdown",
   "metadata": {},
   "source": [
    "**- better_than_baseline(y, yhat): returns true if your model performs better than the baseline, otherwise false**"
   ]
  },
  {
   "cell_type": "markdown",
   "metadata": {},
   "source": [
    "rmse: how far off the typical prediction is; same units as the target; smaller is better"
   ]
  },
  {
   "cell_type": "code",
   "execution_count": null,
   "metadata": {},
   "outputs": [],
   "source": [
    "def better_than_baseline(df, y, yhat):\n",
    "    '''\n",
    "    Takes in a df, column with actual values,  and predicted values\n",
    "    and returns true if your model performs better than the baseline, otherwise false\n",
    "    '''    \n",
    "    from IPython.display import display, HTML\n",
    "    #baseline \n",
    "    b = baseline_mean_errors(df,y)\n",
    "    #Model\n",
    "    m = defregression_errors (df, y, yhat)\n",
    "    \n",
    "    df1 = pd.DataFrame(m, index= ['model'])\n",
    "    df2 =pd.DataFrame(r, index= ['baseline'])\n",
    "    table =pd.concat([df2, df1]).T\n",
    "    display(HTML(table.to_html()))\n",
    "    print('   ')\n",
    "\n",
    "    if m['rmse']< b['rmse']:\n",
    "        print ('Model performs better than the baseline: ',m['rmse']< b['rmse'] )\n",
    "    else:\n",
    "        print ('Model performs better than the baseline: ',m['rmse']< b['rmse'] )\n",
    "    \n",
    "    return\n",
    "\n",
    "    "
   ]
  },
  {
   "cell_type": "code",
   "execution_count": null,
   "metadata": {},
   "outputs": [],
   "source": [
    "better_than_baseline(df, 'tip', 'yhat')"
   ]
  },
  {
   "cell_type": "markdown",
   "metadata": {},
   "source": [
    "**10. Load the mpg dataset and fit a model that predicts highway mileage based on engine displacement. Take a look at all the regression evaluation metrics, and determine whether this model is better than the baseline model. Use the functions from your evaluate.py to help accomplish this.**"
   ]
  },
  {
   "cell_type": "code",
   "execution_count": 2,
   "metadata": {},
   "outputs": [],
   "source": [
    "mpg = data('mpg')"
   ]
  },
  {
   "cell_type": "code",
   "execution_count": 3,
   "metadata": {
    "scrolled": true
   },
   "outputs": [
    {
     "data": {
      "text/html": [
       "<div>\n",
       "<style scoped>\n",
       "    .dataframe tbody tr th:only-of-type {\n",
       "        vertical-align: middle;\n",
       "    }\n",
       "\n",
       "    .dataframe tbody tr th {\n",
       "        vertical-align: top;\n",
       "    }\n",
       "\n",
       "    .dataframe thead th {\n",
       "        text-align: right;\n",
       "    }\n",
       "</style>\n",
       "<table border=\"1\" class=\"dataframe\">\n",
       "  <thead>\n",
       "    <tr style=\"text-align: right;\">\n",
       "      <th></th>\n",
       "      <th>manufacturer</th>\n",
       "      <th>model</th>\n",
       "      <th>displ</th>\n",
       "      <th>year</th>\n",
       "      <th>cyl</th>\n",
       "      <th>trans</th>\n",
       "      <th>drv</th>\n",
       "      <th>cty</th>\n",
       "      <th>hwy</th>\n",
       "      <th>fl</th>\n",
       "      <th>class</th>\n",
       "    </tr>\n",
       "  </thead>\n",
       "  <tbody>\n",
       "    <tr>\n",
       "      <th>1</th>\n",
       "      <td>audi</td>\n",
       "      <td>a4</td>\n",
       "      <td>1.8</td>\n",
       "      <td>1999</td>\n",
       "      <td>4</td>\n",
       "      <td>auto(l5)</td>\n",
       "      <td>f</td>\n",
       "      <td>18</td>\n",
       "      <td>29</td>\n",
       "      <td>p</td>\n",
       "      <td>compact</td>\n",
       "    </tr>\n",
       "    <tr>\n",
       "      <th>2</th>\n",
       "      <td>audi</td>\n",
       "      <td>a4</td>\n",
       "      <td>1.8</td>\n",
       "      <td>1999</td>\n",
       "      <td>4</td>\n",
       "      <td>manual(m5)</td>\n",
       "      <td>f</td>\n",
       "      <td>21</td>\n",
       "      <td>29</td>\n",
       "      <td>p</td>\n",
       "      <td>compact</td>\n",
       "    </tr>\n",
       "    <tr>\n",
       "      <th>3</th>\n",
       "      <td>audi</td>\n",
       "      <td>a4</td>\n",
       "      <td>2.0</td>\n",
       "      <td>2008</td>\n",
       "      <td>4</td>\n",
       "      <td>manual(m6)</td>\n",
       "      <td>f</td>\n",
       "      <td>20</td>\n",
       "      <td>31</td>\n",
       "      <td>p</td>\n",
       "      <td>compact</td>\n",
       "    </tr>\n",
       "    <tr>\n",
       "      <th>4</th>\n",
       "      <td>audi</td>\n",
       "      <td>a4</td>\n",
       "      <td>2.0</td>\n",
       "      <td>2008</td>\n",
       "      <td>4</td>\n",
       "      <td>auto(av)</td>\n",
       "      <td>f</td>\n",
       "      <td>21</td>\n",
       "      <td>30</td>\n",
       "      <td>p</td>\n",
       "      <td>compact</td>\n",
       "    </tr>\n",
       "    <tr>\n",
       "      <th>5</th>\n",
       "      <td>audi</td>\n",
       "      <td>a4</td>\n",
       "      <td>2.8</td>\n",
       "      <td>1999</td>\n",
       "      <td>6</td>\n",
       "      <td>auto(l5)</td>\n",
       "      <td>f</td>\n",
       "      <td>16</td>\n",
       "      <td>26</td>\n",
       "      <td>p</td>\n",
       "      <td>compact</td>\n",
       "    </tr>\n",
       "  </tbody>\n",
       "</table>\n",
       "</div>"
      ],
      "text/plain": [
       "  manufacturer model  displ  year  cyl       trans drv  cty  hwy fl    class\n",
       "1         audi    a4    1.8  1999    4    auto(l5)   f   18   29  p  compact\n",
       "2         audi    a4    1.8  1999    4  manual(m5)   f   21   29  p  compact\n",
       "3         audi    a4    2.0  2008    4  manual(m6)   f   20   31  p  compact\n",
       "4         audi    a4    2.0  2008    4    auto(av)   f   21   30  p  compact\n",
       "5         audi    a4    2.8  1999    6    auto(l5)   f   16   26  p  compact"
      ]
     },
     "execution_count": 3,
     "metadata": {},
     "output_type": "execute_result"
    }
   ],
   "source": [
    "mpg.head()"
   ]
  },
  {
   "cell_type": "code",
   "execution_count": 4,
   "metadata": {},
   "outputs": [],
   "source": [
    "#baseline\n",
    "mpg['yhat_baseline'] = mpg['hwy'].mean()"
   ]
  },
  {
   "cell_type": "code",
   "execution_count": 5,
   "metadata": {},
   "outputs": [],
   "source": [
    "#create a model\n",
    "#model = LinearRegression().fit(X, y)\n",
    "model2 = LinearRegression().fit(mpg[['displ']], mpg['hwy'])"
   ]
  },
  {
   "cell_type": "code",
   "execution_count": 6,
   "metadata": {},
   "outputs": [],
   "source": [
    "# compute predictions and add to original dataframe\n",
    "mpg['yhat']= model2.predict(mpg[['displ']])"
   ]
  },
  {
   "cell_type": "code",
   "execution_count": null,
   "metadata": {},
   "outputs": [],
   "source": []
  },
  {
   "cell_type": "code",
   "execution_count": 10,
   "metadata": {},
   "outputs": [
    {
     "data": {
      "image/png": "[encoded data removed]",
      "text/plain": [
       "<Figure size 864x504 with 1 Axes>"
      ]
     },
     "metadata": {
      "needs_background": "light"
     },
     "output_type": "display_data"
    }
   ],
   "source": [
    "#plot\n",
    "fig, ax = plt.subplots(figsize=(12, 7))\n",
    "ax.scatter(mpg.displ, mpg.yhat_baseline, label='baseline')\n",
    "ax.scatter(mpg.displ, mpg.hwy, label='actual')\n",
    "ax.scatter(mpg.displ, mpg.yhat, label='prediction')\n",
    "plt.show()\n"
   ]
  },
  {
   "cell_type": "code",
   "execution_count": 8,
   "metadata": {},
   "outputs": [
    {
     "data": {
      "text/plain": [
       "{'sse': 3413.829008995467,\n",
       " 'ess': 4847.8333841669255,\n",
       " 'rmse': 3.8195566312014524,\n",
       " 'tss': 8261.66239316239,\n",
       " 'mse': 14.589012858954987,\n",
       " 'r2': 0.586786672398904}"
      ]
     },
     "execution_count": 8,
     "metadata": {},
     "output_type": "execute_result"
    }
   ],
   "source": [
    "evaluate.regression_errors(mpg, 'hwy', 'yhat')"
   ]
  },
  {
   "cell_type": "code",
   "execution_count": 9,
   "metadata": {},
   "outputs": [
    {
     "data": {
      "text/html": [
       "<table border=\"1\" class=\"dataframe\">\n",
       "  <thead>\n",
       "    <tr style=\"text-align: right;\">\n",
       "      <th></th>\n",
       "      <th>baseline</th>\n",
       "      <th>model</th>\n",
       "    </tr>\n",
       "  </thead>\n",
       "  <tbody>\n",
       "    <tr>\n",
       "      <th>sse</th>\n",
       "      <td>8261.662393</td>\n",
       "      <td>3413.829009</td>\n",
       "    </tr>\n",
       "    <tr>\n",
       "      <th>mse</th>\n",
       "      <td>35.306250</td>\n",
       "      <td>14.589013</td>\n",
       "    </tr>\n",
       "    <tr>\n",
       "      <th>rmse</th>\n",
       "      <td>5.941906</td>\n",
       "      <td>3.819557</td>\n",
       "    </tr>\n",
       "    <tr>\n",
       "      <th>tss</th>\n",
       "      <td>8261.662393</td>\n",
       "      <td>8261.662393</td>\n",
       "    </tr>\n",
       "    <tr>\n",
       "      <th>ess</th>\n",
       "      <td>0.000000</td>\n",
       "      <td>4847.833384</td>\n",
       "    </tr>\n",
       "    <tr>\n",
       "      <th>r2</th>\n",
       "      <td>0.000000</td>\n",
       "      <td>0.586787</td>\n",
       "    </tr>\n",
       "  </tbody>\n",
       "</table>"
      ],
      "text/plain": [
       "<IPython.core.display.HTML object>"
      ]
     },
     "metadata": {},
     "output_type": "display_data"
    },
    {
     "name": "stdout",
     "output_type": "stream",
     "text": [
      "   \n",
      "Model performs better than the baseline:  True\n"
     ]
    }
   ],
   "source": [
    "evaluate.better_than_baseline(mpg,'hwy', 'yhat')"
   ]
  },
  {
   "cell_type": "code",
   "execution_count": 11,
   "metadata": {},
   "outputs": [
    {
     "data": {
      "image/png": "[encoded data removed]",
      "text/plain": [
       "<Figure size 936x504 with 1 Axes>"
      ]
     },
     "metadata": {
      "needs_background": "light"
     },
     "output_type": "display_data"
    }
   ],
   "source": [
    "evaluate.plot_residuals(mpg,'hwy', 'yhat')"
   ]
  },
  {
   "cell_type": "code",
   "execution_count": 14,
   "metadata": {},
   "outputs": [
    {
     "data": {
      "text/plain": [
       "<AxesSubplot:title={'center':'Actual vs Residual'}, xlabel='actual value ($y$)', ylabel='residual ($y - \\\\hat{y}$)'>"
      ]
     },
     "execution_count": 14,
     "metadata": {},
     "output_type": "execute_result"
    },
    {
     "data": {
      "image/png": "[encoded data removed]",
      "text/plain": [
       "<Figure size 432x288 with 1 Axes>"
      ]
     },
     "metadata": {
      "needs_background": "light"
     },
     "output_type": "display_data"
    }
   ],
   "source": [
    "plot_residuals2(mpg['hwy'], mpg['yhat'])"
   ]
  },
  {
   "cell_type": "code",
   "execution_count": null,
   "metadata": {},
   "outputs": [],
   "source": []
  }
 ],
 "metadata": {
  "kernelspec": {
   "display_name": "Python 3",
   "language": "python",
   "name": "python3"
  },
  "language_info": {
   "codemirror_mode": {
    "name": "ipython",
    "version": 3
   },
   "file_extension": ".py",
   "mimetype": "text/x-python",
   "name": "python",
   "nbconvert_exporter": "python",
   "pygments_lexer": "ipython3",
   "version": "3.8.5"
  }
 },
 "nbformat": 4,
 "nbformat_minor": 4
}
